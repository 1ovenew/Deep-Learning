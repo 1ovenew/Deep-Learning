{
 "cells": [
  {
   "cell_type": "markdown",
   "metadata": {},
   "source": [
    "# Part 2： Logistic Regression with a Neural Network mindset\n",
    "\n",
    "**原作者：Koala_Tree** [吴恩达Coursera深度学习课程 DeepLearning.ai 编程作业（1-2）](http://blog.csdn.net/koala_tree/article/details/78057033 )\n",
    " \n",
    " /* 本人在对原作者文章进行学习，文章中的部分中文解释，只是在重难点部分加深印象，稍微解释。*/\n",
    "\n",
    "### You will learn to: \n",
    "\n",
    "- Build the general architecture of a learning algorithm, including: 建立学习算法的总体架构\n",
    "    - Initializing parameters 初始化参数，数据\n",
    "    - Calculating the cost function and its gradient  计算代价函数，还有它的 梯度\\导数\n",
    "    - Using an optimization algorithm (gradient descent)  使用最优化算法，梯度下降\n",
    "    - Gather all three functions above into a main model function, in the right order. 将上面三个函数，使用正确的顺序整合到一个主函数中。\n",
    "\n",
    "## 1 - Packages\n",
    "\n",
    "First, let’s run the cell below to import all the packages that you will need during this assignment. \n",
    "\n",
    "- [numpy](http://www.numpy.org/) is the fundamental package for scientific computing with Python. numpy 是用来科学计算基本的库\n",
    "- [h5py](http://www.h5py.org/) is a common package to interact with a dataset that is stored on an H5 file. \n",
    "- [matplotlib](https://matplotlib.org/) is a famous library to plot graphs in Python. 绘画\n",
    "- [PIL](http://www.pythonware.com/products/pil/) and [scipy](https://www.scipy.org/) are used here to test your model with your own picture at the end. 最后的时候用自己的图片来测试模型。"
   ]
  },
  {
   "cell_type": "code",
   "execution_count": 29,
   "metadata": {},
   "outputs": [
    {
     "ename": "ImportError",
     "evalue": "cannot import name '_imaging'",
     "output_type": "error",
     "traceback": [
      "\u001b[1;31m---------------------------------------------------------------------------\u001b[0m",
      "\u001b[1;31mImportError\u001b[0m                               Traceback (most recent call last)",
      "\u001b[1;32m<ipython-input-29-05f9803d8eb1>\u001b[0m in \u001b[0;36m<module>\u001b[1;34m()\u001b[0m\n\u001b[0;32m      3\u001b[0m \u001b[1;32mimport\u001b[0m \u001b[0mh5py\u001b[0m\u001b[1;33m\u001b[0m\u001b[0m\n\u001b[0;32m      4\u001b[0m \u001b[1;32mimport\u001b[0m \u001b[0mscipy\u001b[0m\u001b[1;33m\u001b[0m\u001b[0m\n\u001b[1;32m----> 5\u001b[1;33m \u001b[1;32mfrom\u001b[0m \u001b[0mPIL\u001b[0m \u001b[1;32mimport\u001b[0m \u001b[0mImage\u001b[0m\u001b[1;33m\u001b[0m\u001b[0m\n\u001b[0m\u001b[0;32m      6\u001b[0m \u001b[1;32mfrom\u001b[0m \u001b[0mscipy\u001b[0m \u001b[1;32mimport\u001b[0m \u001b[0mndimage\u001b[0m\u001b[1;33m\u001b[0m\u001b[0m\n\u001b[0;32m      7\u001b[0m \u001b[1;32mfrom\u001b[0m \u001b[0mlr_utils\u001b[0m \u001b[1;32mimport\u001b[0m \u001b[0mload_dataset\u001b[0m\u001b[1;33m\u001b[0m\u001b[0m\n",
      "\u001b[1;32md:\\program files\\python36\\lib\\site-packages\\PIL\\Image.py\u001b[0m in \u001b[0;36m<module>\u001b[1;34m()\u001b[0m\n\u001b[0;32m     54\u001b[0m     \u001b[1;31m# Also note that Image.core is not a publicly documented interface,\u001b[0m\u001b[1;33m\u001b[0m\u001b[1;33m\u001b[0m\u001b[0m\n\u001b[0;32m     55\u001b[0m     \u001b[1;31m# and should be considered private and subject to change.\u001b[0m\u001b[1;33m\u001b[0m\u001b[1;33m\u001b[0m\u001b[0m\n\u001b[1;32m---> 56\u001b[1;33m     \u001b[1;32mfrom\u001b[0m \u001b[1;33m.\u001b[0m \u001b[1;32mimport\u001b[0m \u001b[0m_imaging\u001b[0m \u001b[1;32mas\u001b[0m \u001b[0mcore\u001b[0m\u001b[1;33m\u001b[0m\u001b[0m\n\u001b[0m\u001b[0;32m     57\u001b[0m     \u001b[1;32mif\u001b[0m \u001b[0mPILLOW_VERSION\u001b[0m \u001b[1;33m!=\u001b[0m \u001b[0mgetattr\u001b[0m\u001b[1;33m(\u001b[0m\u001b[0mcore\u001b[0m\u001b[1;33m,\u001b[0m \u001b[1;34m'PILLOW_VERSION'\u001b[0m\u001b[1;33m,\u001b[0m \u001b[1;32mNone\u001b[0m\u001b[1;33m)\u001b[0m\u001b[1;33m:\u001b[0m\u001b[1;33m\u001b[0m\u001b[0m\n\u001b[0;32m     58\u001b[0m         raise ImportError(\"The _imaging extension was built for another \"\n",
      "\u001b[1;31mImportError\u001b[0m: cannot import name '_imaging'"
     ]
    }
   ],
   "source": [
    "import numpy as np\n",
    "import matplotlib.pyplot as plt\n",
    "import h5py\n",
    "import scipy\n",
    "from PIL import Image\n",
    "from scipy import ndimage\n",
    "from lr_utils import load_dataset\n",
    "\n",
    "% matplotlib inline"
   ]
  },
  {
   "cell_type": "markdown",
   "metadata": {},
   "source": [
    "## 2 - Overview of the Problem set\n",
    "\n",
    "**Problem Statement:** You are given a dataset (“data.h5”) containing: \n",
    "- a training set of m_train images labeled as cat (y=1) or non-cat (y=0) 一个训练集，有 m 个训练数据，并有标签 cat or  non-cat\n",
    "- a test set of m_test images labeled as cat or non-cat  一个测试集，images 对应的标签分类 cat or  non-cat\n",
    "- each image is of shape (num_px, num_px, 3) where 3 is for the 3 channels (RGB). Thus, each image is square (height = num_px) and (width = num_px).\n",
    "\n",
    "You will build a simple image-recognition algorithm that can correctly classify pictures as cat or non-cat.\n",
    "你将创建一个简单的图像识别算法，可以正确分类图片 是猫或非猫\n",
    "\n",
    "Let’s get more familiar with the dataset. Load the data by running the following code."
   ]
  },
  {
   "cell_type": "code",
   "execution_count": 32,
   "metadata": {},
   "outputs": [],
   "source": [
    "import numpy as np\n",
    "import h5py\n",
    "import matplotlib.pyplot as plt\n",
    "\n",
    "def load_dataset():\n",
    "    train_dataset = h5py.File('datasets/train_catvnoncat.h5', \"r\")\n",
    "    print(\"train_dataset:\",np.shape(train_dataset))\n",
    "    # train_dataset: (3,)\n",
    "    train_set_x_orig = np.array(train_dataset[\"train_set_x\"][:]) # your train set features 训练集\n",
    "   \n",
    "    train_set_y_orig = np.array(train_dataset[\"train_set_y\"][:]) # your train set labels 训练集对应的 标签集\n",
    "   \n",
    "    test_dataset = h5py.File('datasets/test_catvnoncat.h5', \"r\")\n",
    "    test_set_x_orig = np.array(test_dataset[\"test_set_x\"][:]) # your test set features\n",
    "    test_set_y_orig = np.array(test_dataset[\"test_set_y\"][:]) # your test set labels\n",
    "    \n",
    "    classes = np.array(test_dataset[\"list_classes\"][:]) # the list of classes 测试集中 \n",
    "    \n",
    "    train_set_y_orig = train_set_y_orig.reshape((1, train_set_y_orig.shape[0]))\n",
    "    test_set_y_orig = test_set_y_orig.reshape((1, test_set_y_orig.shape[0]))\n",
    "    \n",
    "    return train_set_x_orig, train_set_y_orig, test_set_x_orig, test_set_y_orig, classes"
   ]
  },
  {
   "cell_type": "code",
   "execution_count": 33,
   "metadata": {},
   "outputs": [
    {
     "name": "stdout",
     "output_type": "stream",
     "text": [
      "train_dataset: (3,)\n",
      "train_set_x_orig: (209, 64, 64, 3)\n",
      "train_set_y: (1, 209)\n",
      "classes:\n",
      " [b'non-cat' b'cat']\n"
     ]
    }
   ],
   "source": [
    "# Loading the data (cat/non-cat)\n",
    "train_set_x_orig, train_set_y, test_set_x_orig, test_set_y, classes = load_dataset()\n",
    "print(\"train_set_x_orig:\",np.shape(train_set_x_orig))\n",
    "print(\"train_set_y:\",np.shape(train_set_y))\n",
    "# print(\"train_set_x_orig:\\n\",train_set_x_orig,\"\\ntrain_set_y:\\n\",train_set_y)\n",
    "print(\"classes:\\n\",classes)"
   ]
  },
  {
   "cell_type": "markdown",
   "metadata": {},
   "source": [
    "We added “_orig” at the end of image datasets (train and test) because we are going to preprocess 预处理 them. After preprocessing, we will end up with train_set_x and test_set_x (the labels train_set_y and test_set_y don’t need any preprocessing).\n",
    "\n",
    "Each line of your train_set_x_orig and test_set_x_orig is an array representing an image.是一个数组，代表图像 You can visualize an example by running the following code. Feel free also to change the `index` value and re-run to see other images."
   ]
  },
  {
   "cell_type": "code",
   "execution_count": 62,
   "metadata": {},
   "outputs": [
    {
     "data": {
      "image/png": "[encoded data removed]",
      "text/plain": [
       "<matplotlib.figure.Figure at 0x25bb92ac6a0>"
      ]
     },
     "metadata": {},
     "output_type": "display_data"
    },
    {
     "name": "stdout",
     "output_type": "stream",
     "text": [
      "train_set_y[:, index]: [1]\n",
      "np.squeeze(1): 1\n",
      "classes[1]: b'cat'\n",
      "y = [1], it's a 'cat' picture.\n"
     ]
    }
   ],
   "source": [
    "# Example of a picture\n",
    "import matplotlib.pyplot as plt\n",
    "import pylab \n",
    "index = 11\n",
    "# plt.imshow 绘制\n",
    "plt.imshow(train_set_x_orig[index])\n",
    "# 加上这句话 才显示图片\n",
    "pylab.show()\n",
    "# index 为 25 的训练数据，是否是 cat ,在 标签集中 str(train_set_y[:, index]) load_dataset() 方法中，已经使用reshape()将 y，label 标签集 转化为\n",
    "# （1，m）行向量，classes  中 存储的是易于理解的 文字显示 [b'non-cat' b'cat'] ，0 代表 non-cat  ，1 代表 cat\n",
    "\n",
    "print(\"train_set_y[:, index]:\",train_set_y[:, index])\n",
    "# train_set_y[:, index]: [1] \n",
    "print(\"np.squeeze(1):\",np.squeeze(1))\n",
    "# np.squeeze(1): 1\n",
    "print(\"classes[1]:\",classes[1])\n",
    "# classes[1]: b'cat'\n",
    "print (\"y = \" + str(train_set_y[:, index]) + \", it's a '\" + classes[np.squeeze(train_set_y[:, index])].decode(\"utf-8\") +  \"' picture.\")"
   ]
  },
  {
   "cell_type": "code",
   "execution_count": 35,
   "metadata": {},
   "outputs": [
    {
     "name": "stdout",
     "output_type": "stream",
     "text": [
      "x.shape : (1, 3, 1)\n",
      "np.squeeze(x).shape : (3,)\n"
     ]
    }
   ],
   "source": [
    "import numpy as np\n",
    "\n",
    "x = np.array([[[0], [1], [2]]])  \n",
    "\n",
    "print(\"x.shape :\",x.shape)\n",
    "# x.shape : (1, 3, 1) 1个 数组 里面有 三行 一列的 数组 \n",
    "\n",
    "print(\"np.squeeze(x).shape :\",np.squeeze(x).shape)\n",
    "# np.squeeze(x).shape : (3,) "
   ]
  },
  {
   "cell_type": "markdown",
   "metadata": {},
   "source": [
    "Many software bugs in deep learning come from having matrix/vector dimensions that don’t fit.(在 DL 中很多 bug 都是因为矩阵或向量的维度不匹配， ) If you can keep your matrix/vector dimensions straight you will go a long way toward eliminating many bugs.（如果你能保证你的矩阵或向量的维度是正确的，就可以避免或消除很多BUG）\n",
    "\n",
    "**Exercise:** Find the values for: \n",
    "    - m_train (number of training examples) \n",
    "    - m_test (number of test examples) \n",
    "    - num_px (= height = width of a training image) \n",
    "Remember that `train_set_x_orig` is a numpy-array of shape (m_train, num_px, num_px, 3). For instance, you can access `m_train` by writing `train_set_x_orig.shape[0]`."
   ]
  },
  {
   "cell_type": "code",
   "execution_count": 36,
   "metadata": {},
   "outputs": [
    {
     "name": "stdout",
     "output_type": "stream",
     "text": [
      "Number of training examples: m_train = 209\n",
      "Number of testing examples: m_test = 50\n",
      "Height/Width of each image: num_px = 64\n",
      "Each image is of size: (64, 64, 3)\n",
      "train_set_x shape: (209, 64, 64, 3)\n",
      "train_set_y shape: (1, 209)\n",
      "test_set_x shape: (50, 64, 64, 3)\n",
      "test_set_y shape: (1, 50)\n"
     ]
    }
   ],
   "source": [
    "### START CODE HERE ### (≈ 3 lines of code)\n",
    "m_train = train_set_x_orig.shape[0] # 训练集 中的 数据 是从 原始数据中 .shape[0] 获取的，个数 行数 209\n",
    "m_test = test_set_x_orig.shape[0] # 50 个\n",
    "num_px = train_set_x_orig.shape[1] # 训练集 中的 数据 是从 原始数据中 .shape[1] 获取的 64* 64 像素\n",
    "### END CODE HERE ###\n",
    "\n",
    "print (\"Number of training examples: m_train = \" + str(m_train)) #训练样本个数\n",
    "print (\"Number of testing examples: m_test = \" + str(m_test)) #测试样本个数 \n",
    "print (\"Height/Width of each image: num_px = \" + str(num_px)) # 图片高宽像素\n",
    "print (\"Each image is of size: (\" + str(num_px) + \", \" + str(num_px) + \", 3)\") # (64, 64, 3) 每一个图片都是 64*64 像素 3 代表 RGB\n",
    "print (\"train_set_x shape: \" + str(train_set_x_orig.shape)) #(209, 64, 64, 3) 一共 209 个样本，每个样本 都是 64*64 像素 3 代表 RGB\n",
    "print (\"train_set_y shape: \" + str(train_set_y.shape)) # train_set_y shape: (1, 209) 训练集对应标签\n",
    "print (\"test_set_x shape: \" + str(test_set_x_orig.shape)) # (50, 64, 64, 3)\n",
    "print (\"test_set_y shape: \" + str(test_set_y.shape)) # (1, 50) "
   ]
  },
  {
   "cell_type": "markdown",
   "metadata": {},
   "source": [
    "For convenience, you should now reshape images of shape (num_px, num_px, 3) in a numpy-array of shape (num_px ∗ num_px ∗ 3, 1). （为了方便，你应该将 图片 的形状 (num_px, num_px, 3) 转化为一个 形状为 shape (num_px ∗ num_px ∗ 3, 1) 的numpy 数组 ，）After this, our training (and test) dataset is a numpy-array where each column represents a flattened image. There should be m_train (respectively m_test) columns.\n",
    "\n",
    "**Exercise:** Reshape the training and test data sets so that images of size (num_px, num_px, 3) are flattened into single vectors of shape (num_px ∗ num_px ∗ 3, 1).将 training and  test data 转化为 列向量\n",
    "\n",
    "A trick when you want to flatten a matrix X of shape (a,b,c,d) to a matrix X_flatten of shape (b∗c∗d, a) is to use:\n",
    "一个技巧，当你想把形状为(a,b,c,d) 准话为 X_flatten X 为基准的 平面 矩阵，使用  (b∗c∗d, a) "
   ]
  },
  {
   "cell_type": "code",
   "execution_count": 37,
   "metadata": {},
   "outputs": [],
   "source": [
    "X_flatten = X.reshape(X.shape[0], -1).T      # X.T is the transpose of X"
   ]
  },
  {
   "cell_type": "code",
   "execution_count": 38,
   "metadata": {},
   "outputs": [
    {
     "name": "stdout",
     "output_type": "stream",
     "text": [
      "train_set_x_flatten shape: (12288, 209)\n",
      "train_set_y shape: (1, 209)\n",
      "test_set_x_flatten shape: (12288, 50)\n",
      "test_set_y shape: (1, 50)\n",
      "sanity check after reshaping: [17 31 56 22 33]\n"
     ]
    }
   ],
   "source": [
    "# Reshape the training and test examples\n",
    "\n",
    "### START CODE HERE ### (≈ 2 lines of code)\n",
    "# reshape(m_train, -1) m_train 行，列数无限制 ，-1 代表不指定大小 \n",
    "train_set_x_flatten = train_set_x_orig.reshape(m_train, -1).T\n",
    "test_set_x_flatten = test_set_x_orig.reshape(m_test, -1).T\n",
    "### END CODE HERE ###\n",
    "\n",
    "print (\"train_set_x_flatten shape: \" + str(train_set_x_flatten.shape)) # (12288, 209) \n",
    "print (\"train_set_y shape: \" + str(train_set_y.shape))\n",
    "print (\"test_set_x_flatten shape: \" + str(test_set_x_flatten.shape))# (12288, 50)\n",
    "print (\"test_set_y shape: \" + str(test_set_y.shape))\n",
    "print (\"sanity check after reshaping: \" + str(train_set_x_flatten[0:5,0])) # [17 31 56 22 33] 第 0 列， 0 到 5 不包含5"
   ]
  },
  {
   "cell_type": "markdown",
   "metadata": {},
   "source": [
    "To represent color images,为了代表图像的颜色 the red, green and blue channels (RGB) must be specified for each pixel,指明每一个像素 and so the pixel value is actually a vector of three numbers ranging from 0 to 255. 所以像素实际上是 三个 0 to 255 的数字\n",
    "\n",
    "One common preprocessing step in machine learning is to center and standardize your dataset, （在ML 中常用的一种预处理过程，就是标准化数据集）meaning that you substract the mean of the whole numpy array from each example, and then divide each example by the standard deviation of the whole numpy array. （求平均值，然后除以标准差）But for picture datasets, it is simpler and more convenient and works almost as well to just divide every row of the dataset by 255 (the maximum value of a pixel channel).对于图片数据集来说，更简单方便和有效的是每行除以255\n",
    "\n",
    "Let’s standardize our dataset. 标准化数据集"
   ]
  },
  {
   "cell_type": "code",
   "execution_count": 39,
   "metadata": {},
   "outputs": [
    {
     "name": "stdout",
     "output_type": "stream",
     "text": [
      "train_set_x: [[ 0.06666667  0.76862745  0.32156863 ...,  0.56078431  0.08627451\n",
      "   0.03137255]\n",
      " [ 0.12156863  0.75294118  0.27843137 ...,  0.60784314  0.09411765\n",
      "   0.10980392]\n",
      " [ 0.21960784  0.74509804  0.26666667 ...,  0.64705882  0.09019608\n",
      "   0.20784314]\n",
      " ..., \n",
      " [ 0.          0.32156863  0.54117647 ...,  0.33333333  0.01568627  0.        ]\n",
      " [ 0.          0.31372549  0.55294118 ...,  0.41960784  0.01960784  0.        ]\n",
      " [ 0.          0.31764706  0.55686275 ...,  0.58431373  0.          0.        ]]\n",
      "test_set_x: [[ 0.61960784  0.45098039  1.         ...,  0.16078431  0.07058824\n",
      "   0.52156863]\n",
      " [ 0.40784314  0.43137255  0.99215686 ...,  0.18431373  0.07058824\n",
      "   0.63921569]\n",
      " [ 0.3254902   0.43529412  0.99607843 ...,  0.32941176  0.0627451\n",
      "   0.29411765]\n",
      " ..., \n",
      " [ 0.67843137  0.67058824  0.52156863 ...,  0.71764706  0.56470588\n",
      "   0.01960784]\n",
      " [ 0.50196078  0.69019608  0.39607843 ...,  0.55294118  0.5372549\n",
      "   0.08627451]\n",
      " [ 0.43137255  0.72941176  0.4745098  ...,  0.45490196  0.42352941\n",
      "   0.01960784]]\n"
     ]
    }
   ],
   "source": [
    "train_set_x = train_set_x_flatten/255.\n",
    "test_set_x = test_set_x_flatten/255.\n",
    "print(\"train_set_x:\",train_set_x)\n",
    "print(\"test_set_x:\",test_set_x)"
   ]
  },
  {
   "cell_type": "markdown",
   "metadata": {},
   "source": [
    "### What you need to remember:\n",
    "\n",
    "Common steps for pre-processing a new dataset are: 对一个新数据集进行预处理的常见步骤如下：\n",
    "- Figure out the dimensions and shapes of the problem (m_train, m_test, num_px, …) 想出计算出问题的规模维度形状\n",
    "- Reshape the datasets such that each example is now a vector of size (num_px * num_px * 3, 1) 最数据集矩阵形变，矩阵变维\n",
    "- “Standardize” the data ，标准化数据集\n",
    "\n",
    "# 3 - General Architecture of the learning algorithm 算法的一般体系结构\n",
    "\n",
    "It’s time to design a simple algorithm to distinguish cat images from non-cat images.\n",
    "是时候去设计一个简单算法去区分一张图片 is cat or non-cat\n",
    "You will build a Logistic Regression, using a Neural Network mindset. The following Figure explains **why Logistic Regression is actually a very simple Neural Network!**\n",
    "你将用一个神经网络去构建一个Logistic Regression,下面将会解释，为什么 Logistic Regression 就是一个简单的神经网络。\n",
    "\n",
    "<img src=\"https://raw.githubusercontent.com/laobadao/Deep-Learning/master/homework/Jupyter/jupyter_note/pic/cat.png\">\n",
    "\n",
    "**Mathematical expression of the algorithm:**\n",
    "\n",
    "For one example $x^{(i)}$:\n",
    "\n",
    "$z^{(i)} = w^T x^{(i)} + b \\tag{1}$\n",
    "\n",
    "$\\hat{y}^{(i)} = a^{(i)} = sigmoid(z^{(i)})\\tag{2}$\n",
    "\n",
    "$\\mathcal{L}(a^{(i)}, y^{(i)}) =  - y^{(i)}  \\log(a^{(i)}) - (1-y^{(i)} )  \\log(1-a^{(i)})\\tag{3}$\n",
    "\n",
    "The cost is then computed by summing over all training examples: \n",
    "\n",
    "$J = \\frac{1}{m} \\sum_{i=1}^m \\mathcal{L}(a^{(i)}, y^{(i)})\\tag{6}$\n",
    "\n",
    "**Key steps: \n",
    "In this exercise, you will carry out the following steps: ** 关键步骤，执行如下步骤\n",
    " \n",
    "- Initialize the parameters of the model 初始化模型的参数\n",
    "- Learn the parameters for the model by minimizing the cost 通过为模型最小化损失 学习参数\n",
    "- Use the learned parameters to make predictions (on the test set) 使用这个学习参数，相当于权重，去做预测，在测试集上\n",
    "- Analyse the results and conclude 分析结果并做分析\n",
    "\n",
    "# 4 - Building the parts of our algorithm  构建算法的各个部分\n",
    "\n",
    "The main steps for building a Neural Network are: 构建神经网络的主要步骤如下\n",
    "1. Define the model structure (such as number of input features)  定义模型结构 例如输入的特征\n",
    "2. Initialize the model’s parameters 初始化参数\n",
    "3. Loop: 循环计算\n",
    "    - Calculate current loss (forward propagation) 计算当前损失  正向传播\n",
    "    - Calculate current gradient (backward propagation) 计算当前梯度（导数），反向传播\n",
    "    - Update parameters (gradient descent) 更新参数，梯度下降\n",
    "\n",
    "You often build 1-3 separately and integrate them into one function we call model().通常将上面三个步骤分别创建，然后再 model() 中结合使用 \n",
    "\n",
    "## 4.1 - Helper functions \n",
    "\n",
    "**Exercise:** Using your code from “Python Basics”, implement `sigmoid()`. As you’ve seen in the figure above, you need to compute $sigmoid( w^T x + b) = \\frac{1}{1 + e^{-(w^T x + b)}}$  to make predictions. Use np.exp()."
   ]
  },
  {
   "cell_type": "code",
   "execution_count": 40,
   "metadata": {},
   "outputs": [
    {
     "name": "stdout",
     "output_type": "stream",
     "text": [
      "0.5\n",
      "sigmoid([0, 2]) = [ 0.5         0.88079708]\n"
     ]
    }
   ],
   "source": [
    "import numpy as np\n",
    "\n",
    "# def sigmoid(x):\n",
    "#     s = 1.0 / (1 + 1/ np.exp(x))\n",
    "#     return s\n",
    "\n",
    "# print(sigmoid(0))\n",
    "\n",
    "\n",
    "# GRADED FUNCTION: sigmoid\n",
    "\n",
    "def sigmoid(z):\n",
    "    \"\"\"\n",
    "    Compute the sigmoid of z\n",
    "    注释要写详细，这是个好习惯\n",
    "    Arguments:\n",
    "    z -- A scalar or numpy array of any size. 输入参数可以是一个标量或者是 任意大小的 numpy 数组\n",
    "\n",
    "    Return:\n",
    "    s -- sigmoid(z)\n",
    "    \"\"\"\n",
    "\n",
    "    ### START CODE HERE ### (≈ 1 line of code)\n",
    "    s = 1.0/(1+np.exp(-z))\n",
    "    ### END CODE HERE ###\n",
    "\n",
    "    return s\n",
    "\n",
    "print(sigmoid(0))  \n",
    "print (\"sigmoid([0, 2]) = \" + str(sigmoid(np.array([0,2]))))"
   ]
  },
  {
   "cell_type": "markdown",
   "metadata": {},
   "source": [
    "## 4.2 - Initializing parameters\n",
    "\n",
    "**Exercise:** Implement parameter initialization in the cell below. You have to initialize `w `as a vector of zeros. 初始化 w 为一个 0 矩阵，If you don’t know what numpy function to use, look up `np.zeros() `in the Numpy library’s documentation."
   ]
  },
  {
   "cell_type": "code",
   "execution_count": 41,
   "metadata": {},
   "outputs": [
    {
     "name": "stdout",
     "output_type": "stream",
     "text": [
      "w: [[ 0.]\n",
      " [ 0.]\n",
      " [ 0.]\n",
      " [ 0.]\n",
      " [ 0.]\n",
      " [ 0.]\n",
      " [ 0.]\n",
      " [ 0.]\n",
      " [ 0.]\n",
      " [ 0.]] b: 0\n"
     ]
    }
   ],
   "source": [
    "# def initialize_w(size):\n",
    "#     w = np.zeros((size,1))\n",
    "#     return w\n",
    "# print(initialize_w(5))\n",
    "\n",
    "# GRADED FUNCTION: initialize_with_zeros\n",
    "\n",
    "def initialize_with_zeros(dim):\n",
    "    \"\"\"\n",
    "    This function creates a vector of zeros of shape (dim, 1) for w and initializes b to 0.\n",
    "\n",
    "    Argument:\n",
    "    dim -- size of the w vector we want (or number of parameters in this case)\n",
    "\n",
    "    Returns:\n",
    "    w -- initialized vector of shape (dim, 1)\n",
    "    b -- initialized scalar (corresponds to the bias)\n",
    "    \"\"\"\n",
    "\n",
    "    ### START CODE HERE ### (≈ 1 line of code)\n",
    "    w = np.zeros((dim, 1))\n",
    "    b = 0\n",
    "    ### END CODE HERE ###\n",
    "    \n",
    "    # Andrew Ng 经常说的，为了避免 bug 可以使用 assert 语句去检查其形状大小是否正确    \n",
    "    assert(w.shape == (dim, 1))\n",
    "    #  是否是 float 或 int  类型实例    \n",
    "    assert(isinstance(b, float) or isinstance(b, int))\n",
    "    \n",
    "    return w, b\n",
    "\n",
    "w ,b = initialize_with_zeros(10)\n",
    "print(\"w:\",str(w),\"b:\",str(b))"
   ]
  },
  {
   "cell_type": "markdown",
   "metadata": {},
   "source": [
    "For image inputs, w will be of shape (num_px × num_px × 3, 1). 对于图像输入来说 W 的 shape 应该是 （num_px * num_px * 3,1）\n",
    "\n",
    "## 4.3 - Forward and Backward propagation 正向传播和反向传播\n",
    "\n",
    "Now that your parameters are initialized, you can do the “forward” and “backward” propagation steps for learning the parameters.\n",
    "现在你已经将参数初始化完成， 可以进行 正向和反向传播的步骤 去进行 “学习参数”\n",
    "\n",
    "**Exercise:** Implement a function `propagate()` that computes the cost function and its gradient. 实现 传播 函数，并计算它的代价\\成本函数和它的梯度(包括 dw,db)。\n",
    "\n",
    "**Hints:**\n",
    "\n",
    "Forward Propagation: \n",
    "- You get X 获取 X 矩阵 数据集 \n",
    "- You compute $A = \\sigma(w^T X + b) = (a^{(0)}, a^{(1)}, ..., a^{(m-1)}, a^{(m)})$\n",
    "- You calculate the cost function:$J = -\\frac{1}{m}\\sum_{i=1}^{m}y^{(i)}\\log(a^{(i)})+(1-y^{(i)})\\log(1-a^{(i)})$\n",
    "\n",
    "Here are the two formulas you will be using:\n",
    "\n",
    "$\\frac{\\partial J}{\\partial w} = \\frac{1}{m}X(A-Y)^T\\tag{7}$\n",
    "\n",
    "$\\frac{\\partial J}{\\partial b} = \\frac{1}{m} \\sum_{i=1}^m (a^{(i)}-y^{(i)})\\tag{8}$"
   ]
  },
  {
   "cell_type": "code",
   "execution_count": 42,
   "metadata": {},
   "outputs": [],
   "source": [
    "# def propagate(w,b,X,Y):\n",
    "#     \"\"\"\n",
    "#     X matrix (n,m) m 列数\n",
    "#     \"\"\"\n",
    "#     # 矩阵 内积 np.dot\n",
    "#     A = sigmoid(np.dot(w.T,X)+ b) \n",
    "#     # !!!计算 m, X 矩阵的列数   \n",
    "#     m = X.shape[1] \n",
    "#     # 1 通常用 float 类型 都写成 1.0    \n",
    "#     cost = (-1.0/m) * np.sum(Y*np.log(A) + (1-Y)*np.log(1-A))\n",
    "#     # 矩阵相乘 np.dot 内积 矩阵 内积     \n",
    "#     dw = (1.0/m) * np.dot(X,(A-Y).T)\n",
    "    \n",
    "#     db = (1.0/m) * np.sum(A-Y)\n",
    "    \n",
    "#     grads = {\"dw\": dw,\n",
    "#              \"db\": db}\n",
    "    \n",
    "#     return cost,grads\n",
    "\n",
    "# w, b, X, Y = np.array([[1.],[2.]]), 2., np.array([[1.,2.,-1.],[3.,4.,-3.2]]), np.array([[1,0,1]])\n",
    "                   \n",
    "# cost,grads = propagate(w, b, X, Y)\n",
    "                   \n",
    "# print (\"dw = \" + str(grads[\"dw\"]))\n",
    "# print (\"db = \" + str(grads[\"db\"]))\n",
    "# print (\"cost = \" + str(cost))\n",
    "\n",
    "# GRADED FUNCTION: propagate\n",
    "\n",
    "def propagate(w, b, X, Y):\n",
    "    \"\"\"\n",
    "    Implement the cost function and its gradient for the propagation explained above\n",
    "    实现 代价函数 和 梯度\n",
    "    Arguments:\n",
    "    w -- weights, a numpy array of size (num_px * num_px * 3, 1) 权重\n",
    "    b -- bias, a scalar 偏差 标量\n",
    "    X -- data of size (num_px * num_px * 3, number of examples) 数据集\n",
    "    Y -- true \"label\" vector (containing 0 if non-cat, 1 if cat) of size (1, number of examples) 标签集\n",
    "\n",
    "    Return:\n",
    "    cost -- negative log-likelihood cost for logistic regression 负的 对数似然函数\n",
    "    dw -- gradient of the loss with respect to w, thus same shape as w\n",
    "    db -- gradient of the loss with respect to b, thus same shape as b\n",
    "\n",
    "    Tips:\n",
    "    - Write your code step by step for the propagation. np.log(), np.dot() 使用 np.log(), np.dot() np.sum()\n",
    "    \"\"\"\n",
    "\n",
    "    m = X.shape[1] # m 列 m 个训练样本\n",
    "\n",
    "    # FORWARD PROPAGATION (FROM X TO COST) 正向传播\n",
    "    ### START CODE HERE ### (≈ 2 lines of code)\n",
    "    A = sigmoid(np.dot(w.T, X)+b)                                    # compute activation 计算激活函数\n",
    "    cost = -(1.0/m)*np.sum(Y*np.log(A)+(1-Y)*np.log(1-A))                                 # compute cost 计算代价函数\n",
    "    ### END CODE HERE ###\n",
    "\n",
    "    # BACKWARD PROPAGATION (TO FIND GRAD) 反向传播\n",
    "    ### START CODE HERE ### (≈ 2 lines of code)\n",
    "    dw = (1.0/m)*np.dot(X,(A-Y).T)\n",
    "    db = (1.0/m)*np.sum(A-Y)\n",
    "    ### END CODE HERE ###\n",
    "\n",
    "    assert(dw.shape == w.shape)\n",
    "    assert(db.dtype == float)\n",
    "    cost = np.squeeze(cost)\n",
    "    assert(cost.shape == ())\n",
    "    grads = {\"dw\": dw,\n",
    "             \"db\": db}\n",
    "\n",
    "    return grads, cost\n",
    "    \n",
    "\n",
    "w, b, X, Y = np.array([[1.],[2.]]), 2., np.array([[1.,2.,-1.],[3.,4.,-3.2]]), np.array([[1,0,1]])\n",
    "grads, cost = propagate(w, b, X, Y)\n",
    "# print (\"dw = \" + str(grads[\"dw\"]))\n",
    "# print (\"db = \" + str(grads[\"db\"]))\n",
    "# print (\"cost = \" + str(cost))"
   ]
  },
  {
   "cell_type": "markdown",
   "metadata": {},
   "source": [
    "## d) Optimization 最优化\n",
    "\n",
    "You have initialized your parameters.\n",
    "\n",
    "You are also able to compute a cost function and its gradient.\n",
    "Now, you want to update the parameters using gradient descent.\n",
    "使用梯度下降 更新参数\n",
    "\n",
    "**Exercise:** Write down the optimization function. The goal is to learn w and b by minimizing the cost function $ J $. For a parameter $\\theta $, the update rule is $\\theta = \\theta - \\alpha \\text{ } d\\theta$ , where $\\alpha$ is the learning rate. 学习率\n",
    "最优化函数 ，目标是 通过最小化代价函数 去学习更新 w 和 b,"
   ]
  },
  {
   "cell_type": "code",
   "execution_count": 43,
   "metadata": {
    "scrolled": false
   },
   "outputs": [
    {
     "name": "stdout",
     "output_type": "stream",
     "text": [
      "w = [[ 0.19033591]\n",
      " [ 0.12259159]]\n",
      "b = 1.92535983008\n",
      "dw = [[ 0.67752042]\n",
      " [ 1.41625495]]\n",
      "db = 0.219194504541\n"
     ]
    }
   ],
   "source": [
    "# def optimize(w,b,X,Y,max_iter,learning_rate,print_cost = False):\n",
    "#     一般初始化的变量放在最开头\n",
    "#     costs = [] \n",
    "#     grads, cost = propagate(w, b, X, Y)\n",
    "#     for i in range(max_iter):\n",
    "        \n",
    "#         dw = grads[\"dw\"]\n",
    "#         db = grads[\"db\"]\n",
    "#         w -= learning_rate * dw\n",
    "#         b -= learning_rate * db\n",
    "#         if i % 100 ==0:\n",
    "#                 costs.append(cost)\n",
    "#         if print_cost and i % 100 == 0:\n",
    "#             print (\"Cost after iteration %i: %f\" %(i, cost))\n",
    "            \n",
    "#     params = {\"w\": w,\n",
    "#               \"b\": b}\n",
    "\n",
    "#     grads = {\"dw\": dw,\n",
    "#              \"db\": db}\n",
    "\n",
    "#     return params, grads, costs\n",
    "\n",
    "# GRADED FUNCTION: optimize\n",
    "\n",
    "def optimize(w, b, X, Y, num_iterations, learning_rate, print_cost = False):\n",
    "    \"\"\"\n",
    "    This function optimizes w and b by running a gradient descent algorithm\n",
    "\n",
    "    Arguments:\n",
    "    w -- weights, a numpy array of size (num_px * num_px * 3, 1)\n",
    "    b -- bias, a scalar\n",
    "    X -- data of shape (num_px * num_px * 3, number of examples)\n",
    "    Y -- true \"label\" vector (containing 0 if non-cat, 1 if cat), of shape (1, number of examples)\n",
    "    num_iterations -- number of iterations of the optimization loop 最大迭代次数\n",
    "    learning_rate -- learning rate of the gradient descent update rule 梯度下降的 更新规则 学习速率\n",
    "    print_cost -- True to print the loss every 100 steps 每迭代 100 次 打印 loss 损失\n",
    "\n",
    "    Returns:\n",
    "    params -- dictionary containing the weights w and bias b 字典 包含权重和 偏差\n",
    "    grads -- dictionary containing the gradients of the weights and bias with respect to the cost function\n",
    "    costs -- list of all the costs computed during the optimization, this will be used to plot the learning curve.\n",
    "\n",
    "    Tips:\n",
    "    You basically need to write down two steps and iterate through them: 基本写2步就可以进行迭代\n",
    "        1) Calculate the cost and the gradient for the current parameters. Use propagate().\n",
    "        2) Update the parameters using gradient descent rule for w and b.\n",
    "    \"\"\"\n",
    "\n",
    "    costs = []\n",
    "\n",
    "    for i in range(num_iterations):\n",
    "\n",
    "\n",
    "        # Cost and gradient calculation (≈ 1-4 lines of code)\n",
    "        ### START CODE HERE ### \n",
    "        grads, cost = propagate(w, b, X, Y)\n",
    "        ### END CODE HERE ###\n",
    "\n",
    "        # Retrieve derivatives from grads\n",
    "        dw = grads[\"dw\"]\n",
    "        db = grads[\"db\"]\n",
    "\n",
    "        # update rule (≈ 2 lines of code)\n",
    "        ### START CODE HERE ###\n",
    "        w = w - learning_rate*dw\n",
    "        b = b - learning_rate*db\n",
    "        ### END CODE HERE ###\n",
    "\n",
    "        # Record the costs 记录 cost 代价 成本\n",
    "        if i % 100 == 0:\n",
    "            costs.append(cost)\n",
    "\n",
    "        # Print the cost every 100 training examples\n",
    "        if print_cost and i % 100 == 0:\n",
    "            print (\"Cost after iteration %i: %f\" %(i, cost))\n",
    "\n",
    "    params = {\"w\": w,\n",
    "              \"b\": b}\n",
    "\n",
    "    grads = {\"dw\": dw,\n",
    "             \"db\": db}\n",
    "\n",
    "    return params, grads, costs\n",
    "\n",
    "\n",
    "params, grads, costs = optimize(w, b, X, Y, num_iterations= 100, learning_rate = 0.009, print_cost = False)\n",
    "\n",
    "print (\"w = \" + str(params[\"w\"]))\n",
    "print (\"b = \" + str(params[\"b\"]))\n",
    "print (\"dw = \" + str(grads[\"dw\"]))\n",
    "print (\"db = \" + str(grads[\"db\"]))"
   ]
  },
  {
   "cell_type": "markdown",
   "metadata": {},
   "source": [
    "**Exercise:** The previous function will output the learned w and b. (之前的函数将会输出 学习后的参数 w and b )We are able to use w and b to predict the labels for a dataset X. (用 w and b 去预测一个 数据集 X 的 label)Implement the `predict()` function. There is two steps to computing predictions:实现预测函数，用两步去实现\n",
    "\n",
    "Calculate $\\hat{Y} = A = \\sigma(w^T X + b)$ \n",
    "\n",
    "Convert the entries of a into 0 (if activation <= 0.5) or 1 (if activation > 0.5),根据激活函数值是 大于还是小于 0.5 ,去判断 a 属于 0 还是1   stores the predictions in a vector `Y_prediction`.存储预测值到一个向量中 If you wish, you can use an `if/else` statement in a `for` loop (though there is also a way to vectorize this).\n",
    "\n",
    "**注意：（n,m） n 是 n 行，代表 X 有 n 个特性，m 是 m  列 代表有 m 个训练样本**"
   ]
  },
  {
   "cell_type": "code",
   "execution_count": 47,
   "metadata": {},
   "outputs": [
    {
     "name": "stdout",
     "output_type": "stream",
     "text": [
      "predictions = [[ 1.  1.  0.]]\n"
     ]
    }
   ],
   "source": [
    "\"\"\"def predict(w,b,X):\n",
    "    # Error: 错误记录\n",
    "    # 1.没有初始化  Y_prediction 作为一个向量，题目要求中已经明确指出来了，要初始化为一个向量，存储所有的 转化后的 y 值,\n",
    "    # 2.X 是一个数据集，就是 要对 所有的 X 中的数据集做预测，则会有 对应的 行数的 Y 向量 在存储\n",
    "    # 3.A 是做完预测后 返回的 激活函数的 一个向量集合 是一个 [0,1]  区间的概率，要根据 每个元素概率大小再去 转化为 0 或 1，且存到 向量中 \n",
    "    # 变量名经常写错，要经常用 np.zeros() and np.reshape()       \n",
    "    Y_prediction =np.zeros((1,X.shape[1]))\n",
    "    w = w.reshape(X.shape[0],1)\n",
    "    A = sigmoid(np.dot(w.T,X)+b)\n",
    "    print(\"A:\",A)\n",
    "    print(\"A.shape:\",A.shape)\n",
    "    for i in range(A.shape[1]):\n",
    "        if A[0,i] > 0.5:\n",
    "            Y_prediction[0,i] = 1\n",
    "        else:\n",
    "            Y_prediction[0,i] = 0\n",
    "    assert(Y.shape ==(1,X.shape[1]))\n",
    "    return Y_prediction\n",
    "\n",
    "w = np.array([[0.1124579],[0.23106775]])\n",
    "b = -0.3\n",
    "X = np.array([[1.,-1.1,-3.2],[1.2,2.,0.1]])\n",
    "print (\"predictions = \" + str(predict(w, b, X)))\"\"\"\n",
    "\n",
    "# GRADED FUNCTION: predict\n",
    "\n",
    "def predict(w, b, X):\n",
    "    '''\n",
    "    Predict whether the label is 0 or 1 using learned logistic regression parameters (w, b)\n",
    "    使用 学习后的 逻辑回归参数 w,b 去预测 标签是 0 还是1\n",
    "    Arguments:\n",
    "    w -- weights, a numpy array of size (num_px * num_px * 3, 1)\n",
    "    b -- bias, a scalar\n",
    "    X -- data of size (num_px * num_px * 3, number of examples)\n",
    "\n",
    "    Returns:\n",
    "    Y_prediction -- a numpy array (vector) containing all predictions (0/1) for the examples in X,一个 数组向量 包含所有的对于 X 的预测值\n",
    "    '''\n",
    "\n",
    "    m = X.shape[1]\n",
    "    Y_prediction = np.zeros((1,m))\n",
    "    w = w.reshape(X.shape[0], 1)\n",
    "#     print(\"w.shape:\",w.shape)\n",
    "    # Compute vector \"A\" predicting the probabilities of a cat being present in the picture\n",
    "    ### START CODE HERE ### (≈ 1 line of code)\n",
    "    A = sigmoid(np.dot(w.T, X) + b)\n",
    "    ### END CODE HERE ###\n",
    "#     print(\"A:\",A)\n",
    "#     print(\"A.shape:\",A.shape)\n",
    "# A: [[ 0.52241976  0.50960677  0.34597965]]\n",
    "# A.shape: (1, 3)\n",
    "    for i in range(A.shape[1]):\n",
    "\n",
    "        # Convert probabilities A[0,i] to actual predictions p[0,i]\n",
    "        ### START CODE HERE ### (≈ 4 lines of code)\n",
    "        if A[0,i] > 0.5:\n",
    "            Y_prediction[0,i] = int(1)\n",
    "        else:\n",
    "            Y_prediction[0,i] = int(0)\n",
    "        ### END CODE HERE ###\n",
    "\n",
    "    assert(Y_prediction.shape == (1, m))\n",
    "\n",
    "    return Y_prediction\n",
    "\n",
    "w = np.array([[0.1124579],[0.23106775]])\n",
    "b = -0.3\n",
    "X = np.array([[1.,-1.1,-3.2],[1.2,2.,0.1]])\n",
    "# print(\"X.shape:\",X.shape)\n",
    "# X.shape: (2, 3)\n",
    "# 注意：（n,m） n 是 n 行，代表 X 有 n 个特性，m 是 m  列 代表有 m 个训练样本\n",
    "print (\"predictions = \" + str(predict(w, b, X)))\n",
    "    "
   ]
  },
  {
   "cell_type": "markdown",
   "metadata": {},
   "source": [
    "**What to remember: **\n",
    "\n",
    "**You’ve implemented several functions that: \n",
    "- Initialize (w,b)  初始化参数 w and b\n",
    "- Optimize the loss iteratively to learn parameters (w,b):  最优化损失 迭代的去学习 参数 w and b \n",
    "- computing the cost and its gradient  计算 成本函数 和它的 梯度\n",
    "- updating the parameters using gradient descent 使用 梯度下降更新参数\n",
    "- Use the learned (w,b) to predict the labels for a given set of examples 使用学习后的 最佳拟合参数 w and b 去对给出的数据集做预测** \n",
    "\n",
    "## 5 - Merge all functions into a model 将所有函数合并到一个 model\n",
    "\n",
    "You will now see how the overall model is structured by putting together all the building blocks (functions implemented in the previous parts) together, in the right order.\n",
    "\n",
    "**Exercise:** Implement the model function. Use the following notation: \n",
    "- Y_prediction for your predictions on the test set \n",
    "- Y_prediction_train for your predictions on the train set \n",
    "- w, costs, grads for the outputs of optimize()"
   ]
  },
  {
   "cell_type": "code",
   "execution_count": 48,
   "metadata": {},
   "outputs": [],
   "source": [
    "# GRADED FUNCTION: model\n",
    "\n",
    "def model(X_train, Y_train, X_test, Y_test, num_iterations = 2000, learning_rate = 0.5, print_cost = False):\n",
    "    \"\"\"\n",
    "    Builds the logistic regression model by calling the function you've implemented previously\n",
    "\n",
    "    Arguments:\n",
    "    X_train -- training set represented by a numpy array of shape (num_px * num_px * 3, m_train) 训练集数据\n",
    "    Y_train -- training labels represented by a numpy array (vector) of shape (1, m_train) 训练集标签\n",
    "    X_test -- test set represented by a numpy array of shape (num_px * num_px * 3, m_test) 测试集数据\n",
    "    Y_test -- test labels represented by a numpy array (vector) of shape (1, m_test) 测试集标签\n",
    "    num_iterations -- hyperparameter representing the number of iterations to optimize the parameters 最大迭代次数\n",
    "    learning_rate -- hyperparameter representing the learning rate used in the update rule of optimize() 学习速率\n",
    "    print_cost -- Set to true to print the cost every 100 iterations 每100次 打印一下 cost \n",
    "\n",
    "    Returns:\n",
    "    d -- dictionary containing information about the model. 返回一个字典 包含 model 的相关信息\n",
    "    \"\"\"\n",
    "\n",
    "    ### START CODE HERE ###\n",
    "\n",
    "    # initialize parameters with zeros (≈ 1 line of code) 初始化 w,b X_train.shape[0] 是 行数，每个 x 的 n 个特征，每个特征对应要有 一个w 权重 拟合参数\n",
    "    # w ,b 其实就是 对x 的 每一个 特征 x_1_(1)  x1 样本的 第一个特征,进行拟合 给出 w 和 偏移 b 所以是跟 x 的行数 也就是 x 有多少个 特征有关\n",
    "    w, b = initialize_with_zeros(X_train.shape[0])\n",
    "\n",
    "    # Gradient descent (≈ 1 line of code) w and b 的梯度 dw and db ,以及 代价成本\n",
    "    # 最优化后的 最佳拟合参数 w and b     \n",
    "    #       params = {\"w\": w,\n",
    "    #               \"b\": b}\n",
    "\n",
    "    #     grads = {\"dw\": dw,\n",
    "    #              \"db\": db}\n",
    "    parameters, grads, costs = optimize(w, b, X_train, Y_train, num_iterations, learning_rate, print_cost)\n",
    "\n",
    "    # Retrieve parameters w and b from dictionary \"parameters\"\n",
    "    w = parameters[\"w\"]\n",
    "    b = parameters[\"b\"]\n",
    "\n",
    "    # Predict test/train set examples (≈ 2 lines of code)\n",
    "    Y_prediction_test = predict(w, b, X_test)\n",
    "    Y_prediction_train = predict(w, b, X_train)\n",
    "\n",
    "    ### END CODE HERE ###\n",
    "\n",
    "    # Print train/test Errors 打印 训练集 和 测试集中 错误率\n",
    "    #  Y_prediction_train - Y_train 相同则 相减为 0 ,b不同 则相减 为 |1| np.abs（） 取绝对值 为错误个数 100 - errors 为正确率\n",
    "    # np.mean 求平均值     \n",
    "    print(\"train accuracy: {} %\".format(100 - np.mean(np.abs(Y_prediction_train - Y_train)) * 100))\n",
    "    print(\"test accuracy: {} %\".format(100 - np.mean(np.abs(Y_prediction_test - Y_test)) * 100))\n",
    "    \n",
    "    \n",
    "    d = {\"costs\": costs,\n",
    "         \"Y_prediction_test\": Y_prediction_test, \n",
    "         \"Y_prediction_train\" : Y_prediction_train, \n",
    "         \"w\" : w, \n",
    "         \"b\" : b,\n",
    "         \"learning_rate\" : learning_rate,\n",
    "         \"num_iterations\": num_iterations}\n",
    "\n",
    "    return d"
   ]
  },
  {
   "cell_type": "markdown",
   "metadata": {},
   "source": [
    "Run the following cell to train your model. 训练模型"
   ]
  },
  {
   "cell_type": "code",
   "execution_count": 67,
   "metadata": {},
   "outputs": [
    {
     "name": "stdout",
     "output_type": "stream",
     "text": [
      "Cost after iteration 0: 0.693147\n",
      "Cost after iteration 100: 0.584508\n",
      "Cost after iteration 200: 0.466949\n",
      "Cost after iteration 300: 0.376007\n",
      "Cost after iteration 400: 0.331463\n",
      "Cost after iteration 500: 0.303273\n",
      "Cost after iteration 600: 0.279880\n",
      "Cost after iteration 700: 0.260042\n",
      "Cost after iteration 800: 0.242941\n",
      "Cost after iteration 900: 0.228004\n",
      "Cost after iteration 1000: 0.214820\n",
      "Cost after iteration 1100: 0.203078\n",
      "Cost after iteration 1200: 0.192544\n",
      "Cost after iteration 1300: 0.183033\n",
      "Cost after iteration 1400: 0.174399\n",
      "Cost after iteration 1500: 0.166521\n",
      "Cost after iteration 1600: 0.159305\n",
      "Cost after iteration 1700: 0.152667\n",
      "Cost after iteration 1800: 0.146542\n",
      "Cost after iteration 1900: 0.140872\n",
      "train accuracy: 99.04306220095694 %\n",
      "test accuracy: 70.0 %\n",
      "{'costs': [0.69314718055994529, 0.58450836369930859, 0.46694904094655459, 0.37600686694802077, 0.33146328932825114, 0.30327306747438287, 0.27987958658260481, 0.26004213692587569, 0.24294068467796615, 0.22800422256726072, 0.21481951378449646, 0.20307819060644994, 0.19254427716706857, 0.18303333796883509, 0.17439859438448876, 0.16652139705400335, 0.15930451829756614, 0.1526673247129651, 0.14654223503982333, 0.14087207570310162], 'Y_prediction_test': array([[ 1.,  1.,  1.,  1.,  1.,  1.,  0.,  1.,  1.,  1.,  0.,  0.,  1.,\n",
      "         1.,  0.,  1.,  0.,  1.,  0.,  0.,  1.,  0.,  0.,  1.,  1.,  1.,\n",
      "         1.,  0.,  0.,  1.,  0.,  1.,  1.,  0.,  1.,  0.,  0.,  1.,  0.,\n",
      "         0.,  1.,  0.,  1.,  0.,  1.,  0.,  0.,  1.,  1.,  0.]]), 'Y_prediction_train': array([[ 0.,  0.,  1.,  0.,  0.,  0.,  0.,  1.,  0.,  0.,  0.,  1.,  0.,\n",
      "         1.,  1.,  0.,  0.,  0.,  0.,  1.,  0.,  0.,  0.,  0.,  1.,  1.,\n",
      "         0.,  1.,  0.,  1.,  0.,  0.,  0.,  0.,  0.,  0.,  0.,  0.,  1.,\n",
      "         0.,  0.,  0.,  1.,  0.,  0.,  0.,  0.,  1.,  0.,  0.,  1.,  0.,\n",
      "         0.,  0.,  1.,  0.,  1.,  1.,  0.,  1.,  1.,  1.,  0.,  0.,  0.,\n",
      "         0.,  0.,  0.,  1.,  0.,  0.,  1.,  0.,  0.,  0.,  1.,  0.,  0.,\n",
      "         0.,  0.,  0.,  0.,  0.,  1.,  1.,  0.,  0.,  0.,  1.,  0.,  0.,\n",
      "         0.,  1.,  1.,  1.,  0.,  0.,  1.,  0.,  0.,  0.,  0.,  1.,  0.,\n",
      "         1.,  0.,  1.,  1.,  1.,  1.,  1.,  1.,  0.,  0.,  0.,  0.,  0.,\n",
      "         1.,  0.,  0.,  0.,  1.,  0.,  0.,  1.,  0.,  1.,  0.,  1.,  1.,\n",
      "         0.,  0.,  0.,  1.,  1.,  1.,  1.,  1.,  0.,  0.,  0.,  0.,  1.,\n",
      "         0.,  1.,  1.,  1.,  0.,  1.,  1.,  0.,  0.,  0.,  1.,  0.,  0.,\n",
      "         1.,  0.,  0.,  0.,  0.,  0.,  1.,  0.,  1.,  0.,  1.,  0.,  0.,\n",
      "         1.,  1.,  1.,  0.,  0.,  1.,  1.,  0.,  1.,  0.,  1.,  0.,  0.,\n",
      "         0.,  0.,  0.,  1.,  0.,  0.,  1.,  0.,  0.,  0.,  1.,  0.,  0.,\n",
      "         0.,  0.,  1.,  0.,  0.,  1.,  0.,  0.,  0.,  0.,  0.,  0.,  0.,\n",
      "         0.]]), 'w': array([[ 0.00961402],\n",
      "       [-0.0264683 ],\n",
      "       [-0.01226513],\n",
      "       ..., \n",
      "       [-0.01144453],\n",
      "       [-0.02944783],\n",
      "       [ 0.02378106]]), 'b': -0.015906243999692933, 'learning_rate': 0.005, 'num_iterations': 2000}\n"
     ]
    }
   ],
   "source": [
    "d = model(train_set_x, train_set_y, test_set_x, test_set_y, num_iterations = 2000, learning_rate = 0.005, print_cost = True)\n",
    "print(d)"
   ]
  },
  {
   "cell_type": "markdown",
   "metadata": {},
   "source": [
    "从上面的 cost 成本代价值观察可得：训练的数据越多，其 w and b 参数拟合行越好，损失降低，最后正确率相对还可以不过测试集中正确率较低。\n",
    "\n",
    "**Comment:** Training accuracy is close to 100%. This is a good sanity check 安全性检查: your model is working and has high enough capacity to fit the training data. 模型是有效的Test error is 68%. It is actually not bad for this simple model, given the small dataset we used and that logistic regression is a linear classifier. 线性分类 But no worries, you’ll build an even better classifier next week!\n",
    "\n",
    "Also, you see that the model is clearly overfitting the training data.对训练数据过拟合 Later in this specialization you will learn how to reduce overfitting, 降低过拟合for example by using regularization.正则化 Using the code below (and changing the index variable) you can look at predictions on pictures of the test set."
   ]
  },
  {
   "cell_type": "code",
   "execution_count": 66,
   "metadata": {},
   "outputs": [
    {
     "data": {
      "image/png": "[encoded data removed]",
      "text/plain": [
       "<matplotlib.figure.Figure at 0x25bb9373780>"
      ]
     },
     "metadata": {},
     "output_type": "display_data"
    },
    {
     "name": "stdout",
     "output_type": "stream",
     "text": [
      "test_set_y: [[1 1 1 1 1 0 1 1 1 1 1 1 1 0 0 1 0 1 1 1 1 0 0 1 1 1 1 0 1 0 1 1 1 1 0 0 0\n",
      "  1 0 0 1 1 1 0 0 0 1 1 1 0]]\n",
      "classes: [b'non-cat' b'cat']\n",
      "y = 1, you predicted that it is a \"cat\" picture.\n"
     ]
    }
   ],
   "source": [
    "# Example of a picture that was wrongly classified.\n",
    "\n",
    "import matplotlib.pyplot as plt\n",
    "import pylab\n",
    "\n",
    "index = 3\n",
    "plt.imshow(test_set_x[:,index].reshape((num_px, num_px, 3)))\n",
    "# 加上这句话 才显示图片\n",
    "pylab.show()\n",
    "print(\"test_set_y:\",test_set_y)\n",
    "print(\"classes:\",classes)\n",
    "# d 上面返回值 d 字典中的 Y_prediction_test 向量里存储的值 是 float 类型的，所以 classes 里面取值 index 会出现错误 用 int () 转换 \n",
    "# 注意 float 类型和 int 类型之间的转换\n",
    "print (\"y = \" + str(test_set_y[0,index]) + \", you predicted that it is a \\\"\" + classes[int(d[\"Y_prediction_test\"][0,index])].decode(\"utf-8\") +  \"\\\" picture.\")\n"
   ]
  },
  {
   "cell_type": "markdown",
   "metadata": {},
   "source": [
    "Let’s also plot the cost function and the gradients."
   ]
  },
  {
   "cell_type": "code",
   "execution_count": 74,
   "metadata": {},
   "outputs": [
    {
     "data": {
      "image/png": "[encoded data removed]",
      "text/plain": [
       "<matplotlib.figure.Figure at 0x25bac02a208>"
      ]
     },
     "metadata": {},
     "output_type": "display_data"
    }
   ],
   "source": [
    "# Plot learning curve (with costs) 绘画学习曲线\n",
    "# costs list 类型存储 每100 次迭代后的 成本值\n",
    "# costs = np.squeeze(d['costs'])\n",
    "# plt.plot(costs)\n",
    "# plt.ylabel('cost')# y 轴\n",
    "# plt.xlabel('iterations (per hundreds)') \n",
    "# plt.title(\"Learning rate =\" + str(d[\"learning_rate\"]))\n",
    "# plt.show()\n",
    "\n",
    "\n",
    "cost = np.squeeze(d['costs'])\n",
    "plt.plot(costs)\n",
    "plt.ylabel('cost')\n",
    "plt.xlabel('iterrations(per hundreds)')\n",
    "plt.title('Learning rate = '+str(d[\"learning_rate\"]))\n",
    "plt.show()"
   ]
  },
  {
   "cell_type": "markdown",
   "metadata": {},
   "source": [
    "**Interpretation:** \n",
    "\n",
    "You can see the cost decreasing. It shows that the parameters are being learned. However, you see that you could train the model even more on the training set. Try to increase the number of iterations in the cell above and rerun the cells. You might see that the training set accuracy goes up, but the test set accuracy goes down. This is called overfitting.\n",
    "\n",
    "## 6 - Further analysis (optional/ungraded exercise)\n",
    "\n",
    "Congratulations on building your first image classification model. Let’s analyze it further, and examine possible choices for the learning rate $\\alpha$.\n",
    "\n",
    "### Choice of learning rate\n",
    "\n",
    "**Reminder:** \n",
    "\n",
    "In order for Gradient Descent to work you must choose the learning rate wisely. The learning rate $\\alpha$ determines how rapidly we update the parameters. If the learning rate is too large we may “overshoot” the optimal value. Similarly, if it is too small we will need too many iterations to converge to the best values. That’s why it is crucial to use a well-tuned learning rate.\n",
    "\n",
    "Let’s compare the learning curve of our model with several choices of learning rates. Run the cell below. This should take about 1 minute. Feel free also to try different values than the three we have initialized the `learning_rates` variable to contain, and see what happens."
   ]
  }
 ],
 "metadata": {
  "kernelspec": {
   "display_name": "Python 3",
   "language": "python",
   "name": "python3"
  },
  "language_info": {
   "codemirror_mode": {
    "name": "ipython",
    "version": 3
   },
   "file_extension": ".py",
   "mimetype": "text/x-python",
   "name": "python",
   "nbconvert_exporter": "python",
   "pygments_lexer": "ipython3",
   "version": "3.6.2"
  }
 },
 "nbformat": 4,
 "nbformat_minor": 2
}
