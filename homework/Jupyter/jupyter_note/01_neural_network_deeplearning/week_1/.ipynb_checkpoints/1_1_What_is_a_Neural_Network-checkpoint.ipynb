{
 "cells": [
  {
   "cell_type": "markdown",
   "metadata": {},
   "source": [
    "# Coursera | Andrew Ng （01-week-1-1.2 ）—What is a Neural Network?\n",
    "什么是神经网络\n",
    "\n",
    " 该系列仅在原课程基础上部分知识点添加个人学习笔记，或相关推导补充等。如有错误，还请批评指教。在学习了 Andrew Ng 课程的基础上，为了更方便的查阅复习，将其整理成文字。因本人一直在学习英语，所以该系列以英文为主，同时也建议读者以英文为主，中文辅助，以便后期进阶时，为学习相关领域的学术论文做铺垫。- ZJ\n",
    "    \n",
    ">[Coursera 课程](https://www.coursera.org/specializations/deep-learning) |[deeplearning.ai](https://www.deeplearning.ai/) |[网易云课堂](https://mooc.study.163.com/smartSpec/detail/1001319001.htm)\n",
    "\n",
    "---\n",
    "   转载请注明作者和出处：微信公众号-「SelfImprovementLab」\n",
    "   \n",
    "   [知乎]()：\n",
    "   \n",
    "   [CSDN]()：\n",
    "   \n",
    "   [Github]()：\n",
    "   \n",
    "   [简书]()：\n",
    "   \n",
    "   掘金：\n",
    "\n",
    "---\n",
    "\n",
    "## 1.2 What is a Neural Network?\n",
    "什么是神经网络\n",
    "\n",
    "\n",
    "The term deep learning refers to training neural networks.Sometimes very large neural networks.So what exactly is a neural network? In this video, let's try to give you some of the basic intuitions.Let's start with a housing price prediction example.\n",
    "\n",
    "“深度学习”指的是训练神经网络，有时候规模很大，那么 神经网络究竟是什么呢？在这个视频中 我会讲些直观的基础知识。\n",
    "\n",
    "<img src=\"images/house_price.png\" style=\"width:680px;height:400px;\">\n",
    "\n",
    "Let's say you have a data sets with six houses.So you know the size of the houses in square feet or square meters,and you know the price of the house,and you want to fit a function to predict the price of the house as a function of the size.So if you are familiar with linear regression,you might say, well,let's fit a straight line to this data.So maybe you got a straight line like that.But to be a bit fancier, you might say, well,we know that prices can never be negative.So instead of a straight line fit which would eventually become negative,let's bend the curve here so it just ends up zero here.So this thick blue line ends up being your function for predicting the price of a house as a function of its size.Whereas, zero here and then there's a straight line fit to the right.\n",
    "\n",
    "\n",
    "我们从一个房价预测的例子开始，假设有一个六间房屋的数据集，已知房屋的面积单位是平方英尺或平方米，已知房屋价格。想要找到一个函数，根据房屋面积 预测房价的函数。如果你懂线性回归，你可能会说 好吧，用这些数据来拟合一条直线。于是 你可能会得到这样一条直线，但奇怪的是你可能也知道，价格永远不会为负，因此 直线不大合适，它最后会让价格为负，我们在这里弯曲一点 让它结束于0，这条粗的蓝线 就是你要的函数，根据房屋面积 预测价格，这里是0，这里的直线拟合得很好。\n",
    "\n"
   ]
  }
 ],
 "metadata": {
  "kernelspec": {
   "display_name": "Python 3",
   "language": "python",
   "name": "python3"
  },
  "language_info": {
   "codemirror_mode": {
    "name": "ipython",
    "version": 3
   },
   "file_extension": ".py",
   "mimetype": "text/x-python",
   "name": "python",
   "nbconvert_exporter": "python",
   "pygments_lexer": "ipython3",
   "version": "3.6.2"
  }
 },
 "nbformat": 4,
 "nbformat_minor": 2
}
