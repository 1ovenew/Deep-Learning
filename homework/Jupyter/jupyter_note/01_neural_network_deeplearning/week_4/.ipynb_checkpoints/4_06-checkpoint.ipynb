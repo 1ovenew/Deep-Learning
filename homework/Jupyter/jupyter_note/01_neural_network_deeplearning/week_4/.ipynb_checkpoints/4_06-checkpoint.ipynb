{
 "cells": [
  {
   "cell_type": "markdown",
   "metadata": {},
   "source": [
    "# Coursera | Andrew Ng (01-week-4-4.6)—xxxxxx\n",
    "\n",
    "该系列仅在原课程基础上部分知识点添加个人学习笔记，或相关推导补充等。如有错误，还请批评指教。在学习了 Andrew Ng 课程的基础上，为了更方便的查阅复习，将其整理成文字。因本人一直在学习英语，所以该系列以英文为主，同时也建议读者以英文为主，中文辅助，以便后期进阶时，为学习相关领域的学术论文做铺垫。- ZJ\n",
    "    \n",
    ">[Coursera 课程](https://www.coursera.org/specializations/deep-learning) |[deeplearning.ai](https://www.deeplearning.ai/) |[网易云课堂](https://mooc.study.163.com/smartSpec/detail/1001319001.htm)\n",
    "\n",
    "---\n",
    "   **转载请注明作者和出处：ZJ 微信公众号-「SelfImprovementLab」**\n",
    "   \n",
    "   [知乎](https://zhuanlan.zhihu.com/c_147249273)：https://zhuanlan.zhihu.com/c_147249273\n",
    "   \n",
    "   [CSDN]()：\n",
    "   \n",
    "\n",
    "---\n",
    "\n",
    "4.6 搭建深层神经网络块\n",
    "\n",
    "\n",
    "In the earlier videos from this week\n",
    "\n",
    "这周的前几个视频(字幕来源：网易云课堂)，和之前几周的视频里，正向反向传播的基础组成部分了，现在我们来用它们建一个深度神经网络，从这一层的计算着手，正向传播里有输入的激活函数，我们之前讲过z^[l]，a^[l]又等于g^[l](z^[l])，之后你就可以，我在这里也会把这包括在缓存中，然后是反向步骤 或者说反向传播步骤，你会需要实现一个函数 输入为da^[l]，一个小细节需要注意 输入在这里其实是da^[l]，之前计算好的z^[l]值，也需要输出你需要的梯度，这就是基本的正向步骤的结构，类似的在反向步骤中会称为反向函数，在l层你会有正向函数，你需要用W^[l]和b^[l]，然后用作反向传播的反向函数，输入da^[l] 输出da^[l-1]，也就是da^[l] 这导数是多少呢? 我希望是什么?，前一层算出的激活函数导数，最后你要算的是dz^[l]，可以计算输出dW^[l]和db^[l]，如果你们喜欢 我可以把这些箭头涂成红色，然后神经网络的计算过程会是这样的，放入第一层并计算第一层的激活函数，之后也缓存z^[l]值，第二层里 需要用到w^[2]和b^[2]，直到最后你算出了，在这些过程里我们缓存了所有的z值，对反向传播的步骤而言，就是这样反向计算梯度，然后这个方块会给我们da^[l-1]的值 以此类推，你还可以计算多一个输出值 就是da^[0]，起码对于训练监督学习的权重不算重要，反向传播步骤中也会输出dw^[l]和db^[l]，这会输出dw^[3]和db^[3]等等，稍微填一下这个流程图，我们之后会看到在这些方块中，神经网络的一步训练 包含了，也就是x 然后经过一系列正向传播计算得到y帽，再实现反向传播，w也会在每一层被更新为，b也一样，那么这是神经网络一个梯度下降循环，概念上会非常有帮助，计算出来的z值缓存下来，你会发现缓存可能很方便，非常方便的一个方法，还有W和b 对吧，我认为是一个很方便的方法，你在计算反向传播时，好 这就是实现过程的细节，现在你们见过，在每一层中 有一个正向传播步骤，以及把信息从一步传递到另一步的缓存，这些元件具体实现过程，我们来看下一个视频吧。\n",
    "\n",
    "\n",
    "---\n",
    "\n",
    "### <font color=#0099ff>重点总结：</font>\n",
    "\n",
    "\n",
    "参考文献：\n",
    "\n",
    "[1]. 大树先生.[吴恩达Coursera深度学习课程 DeepLearning.ai 提炼笔记（1-4）-- 浅层神经网络](http://blog.csdn.net/koala_tree/article/details/78087711)\n",
    "\n",
    "\n",
    "---\n",
    " \n",
    "**PS: 欢迎扫码关注公众号：「SelfImprovementLab」！专注「深度学习」，「机器学习」，「人工智能」。以及 「早起」，「阅读」，「运动」，「英语 」「其他」不定期建群 打卡互助活动。**\n",
    "\n",
    "<center><img src=\"http://upload-images.jianshu.io/upload_images/1157146-cab5ba89dfeeec4b.jpg?imageMogr2/auto-orient/strip%7CimageView2/2/w/1240\"></center>"
   ]
  }
 ],
 "metadata": {
  "kernelspec": {
   "display_name": "Python 3",
   "language": "python",
   "name": "python3"
  },
  "language_info": {
   "codemirror_mode": {
    "name": "ipython",
    "version": 3
   },
   "file_extension": ".py",
   "mimetype": "text/x-python",
   "name": "python",
   "nbconvert_exporter": "python",
   "pygments_lexer": "ipython3",
   "version": "3.6.2"
  }
 },
 "nbformat": 4,
 "nbformat_minor": 2
}
