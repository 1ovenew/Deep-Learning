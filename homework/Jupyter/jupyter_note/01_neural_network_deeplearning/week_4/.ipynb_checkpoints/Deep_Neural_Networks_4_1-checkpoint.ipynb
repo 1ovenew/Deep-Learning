{
 "cells": [
  {
   "cell_type": "markdown",
   "metadata": {},
   "source": [
    "# Coursera | Andrew Ng （01-week-4 ）— Deep Neural Network\n",
    "深层神经网络\n",
    ">[Coursera 课程](https://www.coursera.org/specializations/deep-learning) |\n",
    ">[deeplearning.ai](https://www.deeplearning.ai/) |\n",
    ">[网易云课堂](https://mooc.study.163.com/smartSpec/detail/1001319001.htm)\n",
    "\n",
    "## Deep L-layer Neural Network\n",
    "\n",
    "(字幕来源：网易云课堂)\n",
    "\n",
    "welcome to the fourth week of this course,by now you've seen forward propagation and back propagation,in the context of a neural network with a single hidden layer,as well as logistic regression,and you've learned about vectorization,and why it's important initialized the weight randomly,if you've done the past week's homework."
   ]
  }
 ],
 "metadata": {
  "kernelspec": {
   "display_name": "Python 3",
   "language": "python",
   "name": "python3"
  },
  "language_info": {
   "codemirror_mode": {
    "name": "ipython",
    "version": 3
   },
   "file_extension": ".py",
   "mimetype": "text/x-python",
   "name": "python",
   "nbconvert_exporter": "python",
   "pygments_lexer": "ipython3",
   "version": "3.6.2"
  }
 },
 "nbformat": 4,
 "nbformat_minor": 2
}
