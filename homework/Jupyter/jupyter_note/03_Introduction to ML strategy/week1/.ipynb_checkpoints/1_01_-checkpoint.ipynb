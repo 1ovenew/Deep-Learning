{
 "cells": [
  {
   "cell_type": "markdown",
   "metadata": {},
   "source": [
    "Hi, welcome to this course on how to structure your machine learning project,that is on machine learning strategy.I hope that through this course you will learn how to much morequickly and efficiently get your machine learning systems working.So, what is machine learning strategy.Let's start with a motivating example.Let's say you are working on your cat classifier.And after working it for some time,you've gotten your system to have 90% accuracy,but this isn't good enough for your application.You might then have a lot of ideas as to how to improve your system.For example, you might think well let's collect more data, more training data.Or you might say,maybe your training set isn't diverse enough yet,you should collect images of cats in more diverse poses,or maybe a more diverse set of negative examples.Well maybe you want to train the algorithm longer with gradient descent.Or maybe you want to try a different optimization algorithm,like the Adam optimization algorithm.Or maybe trying a bigger network or a smaller networkor maybe you want to try to dropout or maybe L2 regularization.Or maybe you want to change the network architecturesuch as changing activation functions,changing the number of hidden units and so on and so on.When trying to improve a deep learning system,you often have a lot of ideas or things you could try.And the problem is that if you choose poorly,it is entirely possible that you end upspending six months charging in some directiononly to realize after six months that that didn't do any good.For example, I've seen some teams spend literally six months collecting more dataonly to realize after six monthsthat it barely improved the performance of their system.So, assuming you don't have six months to waste on your problem,won't it be nice if you had quick and effective ways tofigure out which of all of these ideas and maybe even other ideas,are worth pursuing and which ones you can safely discard.So what I hope to do in this course is teach you a number of strategies, that is,ways of analyzing a machine learning problemthat will point you in the direction of the most promising things to try.What I will do in this course also is share with youa number of lessons I've learned throughbuilding and shipping large number of deep learning products.And I think these materials are actually quite unique to this course.I don't see a lot of these ideas being taughtin universities' deep learning courses for example.It turns out also that machine learning strategy is changing in the era of deep learningbecause the things you could do are now different with deep learning algorithmsthan with previous generation of machine learning algorithms.I hope that these ideas will help you become much more effectiveat getting your deep learning systems to work.\n",
    "\n",
    "大家好 欢迎收听本课 如何构建你的机器学习项目(字幕来源：网易云课堂)，也就是说机器学习的策略，我希望通过这门课程 你们能够学到，如何更快速高效地优化你的机器学习系统，那么 什么是机器学习策略呢，我们从一个启发性的例子开始讲，假设你正在调试你的猫分类器，经过一段时间的调整，你的系统达到了90%准确率，但对你的应用程序来说还不够好，你可能有很多想法去改善你的系统，比如 你可能想 我们去收集更多的训练数据吧，或者你会说，可能你的训练集的多样性还不够，你应该收集更多不同姿势的猫咪图片，或者更多样化的反例集，或者你想再用梯度下降训练算法 训练久一点，或者你想尝试用一个完全不同的优化算法，比如Adam优化算法，或者尝试使用规模更大或者更小的神经网络，或者你想试试dropout或者L2正则化，或者你想修改网络的架构，比如修改激活函数，改变隐藏单元的数目 之类的方法，当你尝试优化一个深度学习系统时，你通常可以有很多想法可以去试，问题在于 如果你做出了错误的选择，你完全有可能，白费6个月的时间 往错误的方向前进，在6个月之后才意识到这方法根本不管用，比如 我见过一些团队花了6个月时间收集更多数据，却在6个月之后发现，这些数据几乎没有改善他们系统的性能，所以 假设你的项目没有6个月的时间可以浪费，如果有快速有效的方法，能够判断哪些想法是靠谱的 或者甚至提出新的想法，判断哪些是值得一试的想法 哪些是可以放心舍弃的，我希望在这门课程中 可以教给你们一些策略，一些分析机器学习问题的方法，可以指引你们朝着最有希望的方向前进，这门课中 我会和你们分享，我在搭建和部署大量深度学习产品时，学到的经验和教训，我想这些内容是这门课程独有的，比如说 很多大学深度学习课程，很少提到这些策略，事实上 机器学习策略在深度学习的时代也在变化，因为现在对于深度学习算法来说 能够做到的事情，比上一代机器学习算法大不一样，我希望这些策略能帮助你们提高效率，让你们的深度学习系统更快投入实用，"
   ]
  }
 ],
 "metadata": {
  "kernelspec": {
   "display_name": "Python 3",
   "language": "python",
   "name": "python3"
  },
  "language_info": {
   "codemirror_mode": {
    "name": "ipython",
    "version": 3
   },
   "file_extension": ".py",
   "mimetype": "text/x-python",
   "name": "python",
   "nbconvert_exporter": "python",
   "pygments_lexer": "ipython3",
   "version": "3.6.2"
  }
 },
 "nbformat": 4,
 "nbformat_minor": 2
}
