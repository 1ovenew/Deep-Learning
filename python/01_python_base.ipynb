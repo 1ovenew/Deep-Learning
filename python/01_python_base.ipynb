{
 "cells": [
  {
   "cell_type": "markdown",
   "metadata": {},
   "source": [
    "python3 简明教程---学习笔记\n",
    "\n",
    "格式化方法： format()\n",
    "\n",
    "有时候我们会想要从其他信息中构建字符串。这正是 format() 方法大有用武之地的地方。"
   ]
  },
  {
   "cell_type": "code",
   "execution_count": 1,
   "metadata": {},
   "outputs": [
    {
     "name": "stdout",
     "output_type": "stream",
     "text": [
      "Swaroop was 20 years old when he wrote this book\n",
      "Why is Swaroop playing with that python?\n"
     ]
    }
   ],
   "source": [
    "age = 20\n",
    "name = 'Swaroop'\n",
    "\n",
    "print('{0} was {1} years old when he wrote this book'.format(name, age))\n",
    "print('Why is {0} playing with that python?'.format(name))"
   ]
  },
  {
   "cell_type": "code",
   "execution_count": 2,
   "metadata": {},
   "outputs": [
    {
     "data": {
      "text/plain": [
       "'Swaroop is 20 years old'"
      ]
     },
     "execution_count": 2,
     "metadata": {},
     "output_type": "execute_result"
    }
   ],
   "source": [
    "name  + ' is '+ str(age) + ' years old'"
   ]
  },
  {
   "cell_type": "code",
   "execution_count": 3,
   "metadata": {},
   "outputs": [
    {
     "name": "stdout",
     "output_type": "stream",
     "text": [
      "0.333\n",
      "___hello___\n",
      "Swaroop wrote A byte of Python\n"
     ]
    }
   ],
   "source": [
    "# 对于浮点数 '0.333' 保留小数点(.)后三位\n",
    "print('{0:.3f}'.format(1.0/3))\n",
    "# 使用下划线填充文本，并保持文字处于中间位置\n",
    "# 使用 (^) 定义 '___hello___'字符串长度为 11\n",
    "print('{0:_^11}'.format('hello'))\n",
    "# 基于关键词输出 'Swaroop wrote A Byte of Python'\n",
    "print('{name} wrote {book}'.format(name='Swaroop',book='A byte of Python'))"
   ]
  },
  {
   "cell_type": "markdown",
   "metadata": {},
   "source": [
    "由于我们正在讨论格式问题，就要注意 print 总是会以一个不可见的“新一行”字符（ \\n ）\n",
    "结尾，因此重复调用 print 将会在相互独立的一行中分别打印。为防止打印过程中出现这一\n",
    "换行符，你可以通过 end 指定其应以空白结尾："
   ]
  },
  {
   "cell_type": "code",
   "execution_count": 4,
   "metadata": {},
   "outputs": [
    {
     "name": "stdout",
     "output_type": "stream",
     "text": [
      "wow\n",
      "ab\n",
      "c d "
     ]
    }
   ],
   "source": [
    "print('wow')\n",
    "print('a',end='')\n",
    "print('b',end='')\n",
    "print()\n",
    "print('c', end=' ')\n",
    "print('d', end=' ')"
   ]
  },
  {
   "cell_type": "markdown",
   "metadata": {},
   "source": [
    "转义序列（Escape Sequence） \n",
    "\n",
    "- 通过 \\ 来指定单引号：要注意它可是反斜杠。\n",
    "- 双引号,必须使用转义序列 \\\\ 来指定反斜杠本身。\n",
    "- \\n 来表示新一行的开始"
   ]
  },
  {
   "cell_type": "code",
   "execution_count": 5,
   "metadata": {},
   "outputs": [
    {
     "name": "stdout",
     "output_type": "stream",
     "text": [
      "what's your name?\n",
      "what's your name?\n",
      "This is the first line.\n",
      "This is the second line.\n"
     ]
    }
   ],
   "source": [
    "print('what\\'s your name?')\n",
    "print(\"what's your name?\")\n",
    "print('This is the first line.\\nThis is the second line.')\n",
    "      "
   ]
  },
  {
   "cell_type": "markdown",
   "metadata": {},
   "source": [
    "原始字符串\n",
    "\n",
    "如果你需要指定一些未经过特殊处理的字符串，比如转义序列，那么你需要在字符串前增加 r 或 R 来指定一个 原始（Raw） 字符串 。\n",
    "\n",
    "针对正则表达式用户的提示\n",
    "在处理正则表达式时应全程使用原始字符串。否则，将会有大量 Backwhacking 需要处理。举例说明的话，反向引用可以通过 '\\\\1' 或 r'\\1' 来实现。\n"
   ]
  },
  {
   "cell_type": "code",
   "execution_count": 6,
   "metadata": {},
   "outputs": [
    {
     "name": "stdout",
     "output_type": "stream",
     "text": [
      "Newlines are indicated by \\n\n"
     ]
    }
   ],
   "source": [
    "print(r\"Newlines are indicated by \\n\")"
   ]
  },
  {
   "cell_type": "code",
   "execution_count": 7,
   "metadata": {},
   "outputs": [
    {
     "name": "stdout",
     "output_type": "stream",
     "text": [
      "5\n",
      "6\n",
      "This is a multi-line string.\n",
      "This is the second line\n"
     ]
    }
   ],
   "source": [
    "i = 5\n",
    "print(i)\n",
    "i = i + 1\n",
    "print(i)\n",
    "\n",
    "s = '''This is a multi-line string.\n",
    "This is the second line'''\n",
    "print(s)"
   ]
  },
  {
   "cell_type": "code",
   "execution_count": 8,
   "metadata": {},
   "outputs": [
    {
     "name": "stdout",
     "output_type": "stream",
     "text": [
      "This is a string. This continues the string.\n"
     ]
    }
   ],
   "source": [
    "'''\n",
    "强烈建议你对于每一行物理行最多只写入一行逻辑行。这个观点就是说你不应该使\n",
    "用分号。实际上，我从未在 Python 程序中使用、甚至是见过一个分号。\n",
    "\n",
    "在一类情况下这一方法会颇为有用：如果你有一行非常长的代码，你可以通过使用反斜杠将\n",
    "其拆分成多个物理行。这被称作显式行连接（Explicit Line Joining）\n",
    "\n",
    "注意： \\ 后面不要有空格\n",
    "\n",
    "'''\n",
    "\n",
    "s = 'This is a string. \\\n",
    "This continues the string.'\n",
    "print(s)\n"
   ]
  },
  {
   "cell_type": "code",
   "execution_count": 9,
   "metadata": {},
   "outputs": [
    {
     "name": "stdout",
     "output_type": "stream",
     "text": [
      "5\n"
     ]
    }
   ],
   "source": [
    "i = \\\n",
    "5\n",
    "print(i)"
   ]
  },
  {
   "cell_type": "markdown",
   "metadata": {},
   "source": [
    "### 运算符\n",
    "\n",
    "- // （整除）\n",
    "    - x 除以 y 并对结果向下取整至最接近的整数。\n",
    "    - 13 // 3 输出 4 。\n",
    "    - -13 // 3 输出 -5 。\n",
    "- % （取模）\n",
    "    - 返回除法运算后的余数。\n",
    "    - 13 % 3 输出 1 。 -25.5 % 2.25 输出 1.5 。 \n",
    "    - 对于整型数a，b来说，取模运算或者求余运算的方法都是：\n",
    "        - 1.求 整数商： `c = a/b`;\n",
    "        - 2.计算模或者余数： `r = a - c*b`.\n",
    "\n",
    "    - 归纳：\n",
    "        - 当a和b符号一致时，求模运算和求余运算所得的c的值一致，因此结果一致。\n",
    "        - 当符号不一致时，结果不一样。求模运算结果的符号和b一致，求余运算结果的符号和a一致。\n",
    "\n",
    "- << （左移）\n",
    "    - 将数字的位向左移动指定的位数。（每个数字在内存中以二进制数表示，即 0 和1）\n",
    "    - 2 << 2 输出 8 。 2 用二进制数表示为 10 。\n",
    "    - 向左移 2 位会得到 1000 这一结果，表示十进制中的 8 。\n",
    "- `>> （右移）`\n",
    "    - 将数字的位向右移动指定的位数。\n",
    "    - 11 >> 1 输出 5 。\n",
    "    - 11 在二进制中表示为 1011 ，右移一位后输出 101 这一结果，表示十进制中的 5 。\n",
    "\n",
    "    "
   ]
  },
  {
   "cell_type": "code",
   "execution_count": 10,
   "metadata": {},
   "outputs": [
    {
     "data": {
      "text/plain": [
       "4"
      ]
     },
     "execution_count": 10,
     "metadata": {},
     "output_type": "execute_result"
    }
   ],
   "source": [
    "13//3"
   ]
  },
  {
   "cell_type": "code",
   "execution_count": 11,
   "metadata": {},
   "outputs": [
    {
     "data": {
      "text/plain": [
       "-5"
      ]
     },
     "execution_count": 11,
     "metadata": {},
     "output_type": "execute_result"
    }
   ],
   "source": [
    "-13//3 # 向下取整 -4.多 向下取整是 -5"
   ]
  },
  {
   "cell_type": "code",
   "execution_count": 12,
   "metadata": {},
   "outputs": [
    {
     "data": {
      "text/plain": [
       "1"
      ]
     },
     "execution_count": 12,
     "metadata": {},
     "output_type": "execute_result"
    }
   ],
   "source": [
    "13%3"
   ]
  },
  {
   "cell_type": "code",
   "execution_count": 13,
   "metadata": {},
   "outputs": [
    {
     "data": {
      "text/plain": [
       "1.5"
      ]
     },
     "execution_count": 13,
     "metadata": {},
     "output_type": "execute_result"
    }
   ],
   "source": [
    "'''\n",
    "c = a/b; -25.5/2.25 = -12 (向下取整)\n",
    "r = a - c*b. r = -25.5 - (-12 * 2.25) = 1.5\n",
    "'''\n",
    "-25.5%2.25\n"
   ]
  },
  {
   "cell_type": "code",
   "execution_count": 14,
   "metadata": {},
   "outputs": [
    {
     "data": {
      "text/plain": [
       "8"
      ]
     },
     "execution_count": 14,
     "metadata": {},
     "output_type": "execute_result"
    }
   ],
   "source": [
    "'''\n",
    "2  ----- 10 \n",
    "左移两位\n",
    "\n",
    "8  ----- 1000 \n",
    "\n",
    "（2**3， 2**2， 2**1， 2**0）\n",
    "\n",
    "'''\n",
    "2<<2\n"
   ]
  },
  {
   "cell_type": "code",
   "execution_count": 15,
   "metadata": {},
   "outputs": [
    {
     "data": {
      "text/plain": [
       "5"
      ]
     },
     "execution_count": 15,
     "metadata": {},
     "output_type": "execute_result"
    }
   ],
   "source": [
    "'''\n",
    "11 ---- 1011 (8+2+1)\n",
    "右移 1 位\n",
    "5  ----- 101 （4+1） \n",
    "\n",
    "'''\n",
    "\n",
    "11>>1"
   ]
  },
  {
   "cell_type": "markdown",
   "metadata": {},
   "source": [
    "- & （按位与）\n",
    "    - 对数字进行按位与操作。\n",
    "    - 5 & 3 输出 1 。\n",
    "- | （按位或）\n",
    "    - 对数字进行按位或操作。运算规则：0 ^ 0 = 0;0 ^ 1 = 1;1 ^ 0 = 1;1 ^ 1 = 0;\n",
    "    - 5 | 3 输出 7 。\n",
    "- ^ （按位异或）\n",
    "    - 对数字进行按位异或操作。\n",
    "    - 5 ^ 3 输出 6 。\n",
    "- ~ （按位取反）\n",
    "    - x 的按位取反结果为 -(x+1)。\n",
    "    - ~5 输出 -6 。有关本例的更多细节可以参\n",
    "    - 阅：http://stackoverflow.com/a/11810203 。\n",
    "- < （小于）\n",
    "    - 返回 x 是否小于 y。所有的比较运算符返回的结果均为 True 或 False 。请注意这些名称之中的大写字母。\n",
    "    - 5 < 3 输出 False ， 3 < 6 输出 True 。\n"
   ]
  },
  {
   "cell_type": "code",
   "execution_count": 16,
   "metadata": {},
   "outputs": [
    {
     "name": "stdout",
     "output_type": "stream",
     "text": [
      "False\n",
      "-6\n",
      "6\n"
     ]
    }
   ],
   "source": [
    "print(5 < 3)\n",
    "print(~5)\n",
    "a = 2\n",
    "a *= 3\n",
    "print(a)"
   ]
  },
  {
   "cell_type": "code",
   "execution_count": 18,
   "metadata": {},
   "outputs": [
    {
     "name": "stdout",
     "output_type": "stream",
     "text": [
      "Enter an integer :89\n",
      "No, it is a little lower than that\n",
      "Done\n"
     ]
    }
   ],
   "source": [
    "number = 23\n",
    "guess = int(input('Enter an integer :'))\n",
    "\n",
    "if guess == number:\n",
    "    print('Congratulations, you guessed it.')\n",
    "    print('(but you do not win any prizes!)')\n",
    "# 新块在这里结束\n",
    "elif guess < number:\n",
    "# 另一代码块\n",
    "    print('No, it is a little higher than that')\n",
    "# 你可以在此做任何你希望在该代码块内进行的事情\n",
    "else:\n",
    "    print('No, it is a little lower than that')\n",
    "# 你必须通过猜测一个大于（>）设置数的数字来到达这里。\n",
    "print('Done')\n"
   ]
  },
  {
   "cell_type": "code",
   "execution_count": 19,
   "metadata": {},
   "outputs": [
    {
     "name": "stdout",
     "output_type": "stream",
     "text": [
      "Enter an integer:90\n",
      "No, it is a little lower than that.\n",
      "Enter an integer:11\n",
      "No, it is a little higher than that.\n",
      "Enter an integer:23\n",
      "Congratulations, you guessed it.\n",
      "The while loop is over.\n",
      "Done\n"
     ]
    }
   ],
   "source": [
    "number = 23\n",
    "running = True\n",
    "\n",
    "while running:\n",
    "    guess = int(input('Enter an integer:'))\n",
    "    \n",
    "    if guess == number:\n",
    "        print('Congratulations, you guessed it.')\n",
    "        # 这将导致 while 循环中止\n",
    "        running = False\n",
    "    elif guess < number:\n",
    "        print('No, it is a little higher than that.')\n",
    "    else:\n",
    "        print('No, it is a little lower than that.')\n",
    "else:\n",
    "    print('The while loop is over.')\n",
    "# 在这里你可以做你想做的任何事\n",
    "print('Done')\n",
    " "
   ]
  },
  {
   "cell_type": "code",
   "execution_count": 20,
   "metadata": {},
   "outputs": [
    {
     "name": "stdout",
     "output_type": "stream",
     "text": [
      "1\n",
      "2\n",
      "3\n",
      "4\n",
      "The for loop is over\n"
     ]
    }
   ],
   "source": [
    "for i in range(1,5):\n",
    "    print(i)\n",
    "else:\n",
    "    print('The for loop is over')"
   ]
  },
  {
   "cell_type": "code",
   "execution_count": 21,
   "metadata": {},
   "outputs": [
    {
     "name": "stdout",
     "output_type": "stream",
     "text": [
      "Enter something:what?\n",
      "Length of the string is 5\n",
      "Enter something:quit\n",
      "Done\n"
     ]
    }
   ],
   "source": [
    "while True:\n",
    "    s = input('Enter something:')\n",
    "    if s == 'quit':\n",
    "        break\n",
    "    print('Length of the string is', len(s))\n",
    "print('Done')    "
   ]
  },
  {
   "cell_type": "code",
   "execution_count": 22,
   "metadata": {},
   "outputs": [
    {
     "name": "stdout",
     "output_type": "stream",
     "text": [
      "Enter something:hello\n",
      "Input is of sufficient length\n",
      "Enter something:o\n",
      "Too small\n",
      "Enter something:quit\n"
     ]
    }
   ],
   "source": [
    "# 用 continue 语句跳过代码块中的其余语句。\n",
    "while True:\n",
    "    s = input('Enter something:')\n",
    "    if s == 'quit':\n",
    "        break\n",
    "    if len(s) < 3:\n",
    "        print('Too small')\n",
    "        continue\n",
    "    print('Input is of sufficient length')    "
   ]
  },
  {
   "cell_type": "code",
   "execution_count": 23,
   "metadata": {},
   "outputs": [
    {
     "name": "stdout",
     "output_type": "stream",
     "text": [
      "Hello \n",
      "World World World World World \n"
     ]
    }
   ],
   "source": [
    "def say(message, times=1):\n",
    "    print(message * times)\n",
    "    \n",
    "say('Hello ')    \n",
    "say('World ', 5)"
   ]
  },
  {
   "cell_type": "code",
   "execution_count": 27,
   "metadata": {},
   "outputs": [
    {
     "name": "stdout",
     "output_type": "stream",
     "text": [
      "a is 3 and b is 7 and c is 10\n",
      "a is 35 and b is 5 and c is 30\n",
      "a is 888 and b is 9 and c is 80\n"
     ]
    }
   ],
   "source": [
    "'''\n",
    "关键字参数（Keyword Arguments）\n",
    "'''\n",
    "def func(a, b=5, c=10):\n",
    "    print('a is',a, 'and b is', b, 'and c is', c)\n",
    "    \n",
    "func(3,7)    \n",
    "func(35, c= 30)\n",
    "func(c=80,b=9,a=888)"
   ]
  },
  {
   "cell_type": "code",
   "execution_count": 37,
   "metadata": {},
   "outputs": [
    {
     "name": "stdout",
     "output_type": "stream",
     "text": [
      "a 10\n",
      "single_item 1\n",
      "single_item 2\n",
      "single_item 3\n",
      "Jack 101010\n",
      "John 22323\n",
      "Inge 1889\n",
      "None\n"
     ]
    }
   ],
   "source": [
    "'''\n",
    "可变参数\n",
    "'''\n",
    "def total(a=5, *numbers, **phonebook):\n",
    "    print('a', a)\n",
    "    \n",
    "    for single_item in numbers:\n",
    "        print('single_item', single_item)\n",
    "        \n",
    "    for first_part,second_part in phonebook.items():\n",
    "        print(first_part,second_part)\n",
    "        \n",
    "print(total(10,1,2,3,Jack=101010,John=22323,Inge=1889))\n",
    "    "
   ]
  },
  {
   "cell_type": "code",
   "execution_count": 44,
   "metadata": {},
   "outputs": [
    {
     "name": "stdout",
     "output_type": "stream",
     "text": [
      "5 is maximum\n",
      "打印两个数值中的最大数。\n",
      "    \n",
      "    这两个数都应该是整数\n"
     ]
    }
   ],
   "source": [
    "'''\n",
    "文档字符串（Documentation Strings）\n",
    "\n",
    "该文档字符串所约定的是一串多行字符串，其中第一行以某一大写字母开始，以句号结束。\n",
    "第二行为空行，后跟的第三行开始是任何详细的解释说明。 在此强烈建议你在你所有重要功\n",
    "能的所有文档字符串中都遵循这一约定。\n",
    "\n",
    "'''\n",
    "\n",
    "\n",
    "def print_max(x, y):\n",
    "    '''打印两个数值中的最大数。\n",
    "    \n",
    "    这两个数都应该是整数'''\n",
    "    # 如果可能，将其转换至整数类型\n",
    "    x = int(x)\n",
    "    y = int(y)\n",
    "    if x > y:\n",
    "        print(x, 'is maximum')\n",
    "    else:\n",
    "        print(y, 'is maximum')\n",
    "        \n",
    "print_max(3, 5)\n",
    "print(print_max.__doc__)\n"
   ]
  },
  {
   "cell_type": "code",
   "execution_count": 45,
   "metadata": {},
   "outputs": [
    {
     "name": "stdout",
     "output_type": "stream",
     "text": [
      "Help on function print_max in module __main__:\n",
      "\n",
      "print_max(x, y)\n",
      "    打印两个数值中的最大数。\n",
      "    \n",
      "    这两个数都应该是整数\n",
      "\n"
     ]
    }
   ],
   "source": [
    "help(print_max)"
   ]
  },
  {
   "cell_type": "code",
   "execution_count": null,
   "metadata": {},
   "outputs": [],
   "source": [
    "import sys\n",
    "\n",
    "print('The command line arguments are:')\n",
    "for i in sys.argv:\n",
    "    print(i)\n",
    "    \n",
    "print('\\n\\n The PYTHONPATH is',sys.path,'\\n') "
   ]
  },
  {
   "cell_type": "markdown",
   "metadata": {},
   "source": [
    "```\n",
    ">python module_using_sys.py we are arguments\n",
    "The command line arguments are:\n",
    "module_using_sys.py\n",
    "we\n",
    "are\n",
    "arguments\n",
    "\n",
    "\n",
    " The Python Path is ['D:\\\\github\\\\python\\\\Deep-Learning\\\\python', 'D:\\\\Program Files\\\\Python36\\\\python36.zip', 'D:\\\\Program Files\\\\Python36\\\\DLLs', 'D:\\\\Program Files\\\\Python36\\\\lib', 'D:\\\\Program Files\\\\Python36', 'C:\\\\Users\\\\qhtf\\\\AppData\\\\Roaming\\\\Python\\\\Python36\\\\site-packages', 'D:\\\\Program Files\\\\Python36\\\\lib\\\\site-packages']\n",
    "\n",
    "```"
   ]
  },
  {
   "cell_type": "code",
   "execution_count": 47,
   "metadata": {},
   "outputs": [
    {
     "name": "stdout",
     "output_type": "stream",
     "text": [
      "D:\\github\\python\\Deep-Learning\\python\n"
     ]
    }
   ],
   "source": [
    "import os\n",
    "\n",
    "print(os.getcwd())"
   ]
  },
  {
   "cell_type": "code",
   "execution_count": 51,
   "metadata": {},
   "outputs": [
    {
     "name": "stdout",
     "output_type": "stream",
     "text": [
      "Help on built-in function sqrt in module math:\n",
      "\n",
      "sqrt(...)\n",
      "    sqrt(x)\n",
      "    \n",
      "    Return the square root of x.\n",
      "\n",
      "Square root of 16 is 4.0\n"
     ]
    }
   ],
   "source": [
    "from sys import argv\n",
    "from math import sqrt\n",
    "\n",
    "help(sqrt)\n",
    "print('Square root of 16 is', sqrt(16))"
   ]
  },
  {
   "cell_type": "code",
   "execution_count": 52,
   "metadata": {},
   "outputs": [
    {
     "name": "stdout",
     "output_type": "stream",
     "text": [
      "Hi, this is mymodule speaking.\n",
      "Version 0.1\n"
     ]
    }
   ],
   "source": [
    "import mymodule\n",
    "\n",
    "mymodule.say_hi()\n",
    "print('Version', mymodule.__version__)"
   ]
  },
  {
   "cell_type": "code",
   "execution_count": null,
   "metadata": {},
   "outputs": [],
   "source": []
  }
 ],
 "metadata": {
  "kernelspec": {
   "display_name": "Python 3",
   "language": "python",
   "name": "python3"
  },
  "language_info": {
   "codemirror_mode": {
    "name": "ipython",
    "version": 3
   },
   "file_extension": ".py",
   "mimetype": "text/x-python",
   "name": "python",
   "nbconvert_exporter": "python",
   "pygments_lexer": "ipython3",
   "version": "3.6.2"
  }
 },
 "nbformat": 4,
 "nbformat_minor": 2
}
