{
 "cells": [
  {
   "cell_type": "markdown",
   "metadata": {},
   "source": [
    "python3 简明教程---学习笔记\n",
    "\n",
    "格式化方法： format()\n",
    "\n",
    "有时候我们会想要从其他信息中构建字符串。这正是 format() 方法大有用武之地的地方。"
   ]
  },
  {
   "cell_type": "code",
   "execution_count": 1,
   "metadata": {},
   "outputs": [
    {
     "name": "stdout",
     "output_type": "stream",
     "text": [
      "Swaroop was 20 years old when he wrote this book\n",
      "Why is Swaroop playing with that python?\n"
     ]
    }
   ],
   "source": [
    "age = 20\n",
    "name = 'Swaroop'\n",
    "\n",
    "print('{0} was {1} years old when he wrote this book'.format(name, age))\n",
    "print('Why is {0} playing with that python?'.format(name))"
   ]
  },
  {
   "cell_type": "code",
   "execution_count": 3,
   "metadata": {},
   "outputs": [
    {
     "data": {
      "text/plain": [
       "'Swaroop is 20 years old'"
      ]
     },
     "execution_count": 3,
     "metadata": {},
     "output_type": "execute_result"
    }
   ],
   "source": [
    "name  + ' is '+ str(age) + ' years old'"
   ]
  },
  {
   "cell_type": "code",
   "execution_count": 5,
   "metadata": {},
   "outputs": [
    {
     "name": "stdout",
     "output_type": "stream",
     "text": [
      "0.333\n",
      "___hello___\n",
      "Swaroop wrote A byte of Python\n"
     ]
    }
   ],
   "source": [
    "# 对于浮点数 '0.333' 保留小数点(.)后三位\n",
    "print('{0:.3f}'.format(1.0/3))\n",
    "# 使用下划线填充文本，并保持文字处于中间位置\n",
    "# 使用 (^) 定义 '___hello___'字符串长度为 11\n",
    "print('{0:_^11}'.format('hello'))\n",
    "# 基于关键词输出 'Swaroop wrote A Byte of Python'\n",
    "print('{name} wrote {book}'.format(name='Swaroop',book='A byte of Python'))"
   ]
  },
  {
   "cell_type": "markdown",
   "metadata": {},
   "source": [
    "由于我们正在讨论格式问题，就要注意 print 总是会以一个不可见的“新一行”字符（ \\n ）\n",
    "结尾，因此重复调用 print 将会在相互独立的一行中分别打印。为防止打印过程中出现这一\n",
    "换行符，你可以通过 end 指定其应以空白结尾："
   ]
  },
  {
   "cell_type": "code",
   "execution_count": 7,
   "metadata": {},
   "outputs": [
    {
     "name": "stdout",
     "output_type": "stream",
     "text": [
      "wow\n",
      "ab\n",
      "c d "
     ]
    }
   ],
   "source": [
    "print('wow')\n",
    "print('a',end='')\n",
    "print('b',end='')\n",
    "print()\n",
    "print('c', end=' ')\n",
    "print('d', end=' ')"
   ]
  },
  {
   "cell_type": "code",
   "execution_count": null,
   "metadata": {},
   "outputs": [],
   "source": []
  }
 ],
 "metadata": {
  "kernelspec": {
   "display_name": "Python 3",
   "language": "python",
   "name": "python3"
  },
  "language_info": {
   "codemirror_mode": {
    "name": "ipython",
    "version": 3
   },
   "file_extension": ".py",
   "mimetype": "text/x-python",
   "name": "python",
   "nbconvert_exporter": "python",
   "pygments_lexer": "ipython3",
   "version": "3.6.2"
  }
 },
 "nbformat": 4,
 "nbformat_minor": 2
}
