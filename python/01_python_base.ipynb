{
 "cells": [
  {
   "cell_type": "markdown",
   "metadata": {},
   "source": [
    "python3 简明教程---学习笔记\n",
    "\n",
    "格式化方法： format()\n",
    "\n",
    "有时候我们会想要从其他信息中构建字符串。这正是 format() 方法大有用武之地的地方。"
   ]
  },
  {
   "cell_type": "code",
   "execution_count": 1,
   "metadata": {},
   "outputs": [
    {
     "name": "stdout",
     "output_type": "stream",
     "text": [
      "Swaroop was 20 years old when he wrote this book\n",
      "Why is Swaroop playing with that python?\n"
     ]
    }
   ],
   "source": [
    "age = 20\n",
    "name = 'Swaroop'\n",
    "\n",
    "print('{0} was {1} years old when he wrote this book'.format(name, age))\n",
    "print('Why is {0} playing with that python?'.format(name))"
   ]
  },
  {
   "cell_type": "code",
   "execution_count": 2,
   "metadata": {},
   "outputs": [
    {
     "data": {
      "text/plain": [
       "'Swaroop is 20 years old'"
      ]
     },
     "execution_count": 2,
     "metadata": {},
     "output_type": "execute_result"
    }
   ],
   "source": [
    "name  + ' is '+ str(age) + ' years old'"
   ]
  },
  {
   "cell_type": "code",
   "execution_count": 3,
   "metadata": {},
   "outputs": [
    {
     "name": "stdout",
     "output_type": "stream",
     "text": [
      "0.333\n",
      "___hello___\n",
      "Swaroop wrote A byte of Python\n"
     ]
    }
   ],
   "source": [
    "# 对于浮点数 '0.333' 保留小数点(.)后三位\n",
    "print('{0:.3f}'.format(1.0/3))\n",
    "# 使用下划线填充文本，并保持文字处于中间位置\n",
    "# 使用 (^) 定义 '___hello___'字符串长度为 11\n",
    "print('{0:_^11}'.format('hello'))\n",
    "# 基于关键词输出 'Swaroop wrote A Byte of Python'\n",
    "print('{name} wrote {book}'.format(name='Swaroop',book='A byte of Python'))"
   ]
  },
  {
   "cell_type": "markdown",
   "metadata": {},
   "source": [
    "由于我们正在讨论格式问题，就要注意 print 总是会以一个不可见的“新一行”字符（ \\n ）\n",
    "结尾，因此重复调用 print 将会在相互独立的一行中分别打印。为防止打印过程中出现这一\n",
    "换行符，你可以通过 end 指定其应以空白结尾："
   ]
  },
  {
   "cell_type": "code",
   "execution_count": 4,
   "metadata": {},
   "outputs": [
    {
     "name": "stdout",
     "output_type": "stream",
     "text": [
      "wow\n",
      "ab\n",
      "c d "
     ]
    }
   ],
   "source": [
    "print('wow')\n",
    "print('a',end='')\n",
    "print('b',end='')\n",
    "print()\n",
    "print('c', end=' ')\n",
    "print('d', end=' ')"
   ]
  },
  {
   "cell_type": "markdown",
   "metadata": {},
   "source": [
    "转义序列（Escape Sequence） \n",
    "\n",
    "- 通过 \\ 来指定单引号：要注意它可是反斜杠。\n",
    "- 双引号,必须使用转义序列 \\\\ 来指定反斜杠本身。\n",
    "- \\n 来表示新一行的开始"
   ]
  },
  {
   "cell_type": "code",
   "execution_count": 5,
   "metadata": {},
   "outputs": [
    {
     "name": "stdout",
     "output_type": "stream",
     "text": [
      "what's your name?\n",
      "what's your name?\n",
      "This is the first line.\n",
      "This is the second line.\n"
     ]
    }
   ],
   "source": [
    "print('what\\'s your name?')\n",
    "print(\"what's your name?\")\n",
    "print('This is the first line.\\nThis is the second line.')\n",
    "      "
   ]
  },
  {
   "cell_type": "markdown",
   "metadata": {},
   "source": [
    "原始字符串\n",
    "\n",
    "如果你需要指定一些未经过特殊处理的字符串，比如转义序列，那么你需要在字符串前增加 r 或 R 来指定一个 原始（Raw） 字符串 。\n",
    "\n",
    "针对正则表达式用户的提示\n",
    "在处理正则表达式时应全程使用原始字符串。否则，将会有大量 Backwhacking 需要处理。举例说明的话，反向引用可以通过 '\\\\1' 或 r'\\1' 来实现。\n"
   ]
  },
  {
   "cell_type": "code",
   "execution_count": 6,
   "metadata": {},
   "outputs": [
    {
     "name": "stdout",
     "output_type": "stream",
     "text": [
      "Newlines are indicated by \\n\n"
     ]
    }
   ],
   "source": [
    "print(r\"Newlines are indicated by \\n\")"
   ]
  },
  {
   "cell_type": "code",
   "execution_count": 7,
   "metadata": {},
   "outputs": [
    {
     "name": "stdout",
     "output_type": "stream",
     "text": [
      "5\n",
      "6\n",
      "This is a multi-line string.\n",
      "This is the second line\n"
     ]
    }
   ],
   "source": [
    "i = 5\n",
    "print(i)\n",
    "i = i + 1\n",
    "print(i)\n",
    "\n",
    "s = '''This is a multi-line string.\n",
    "This is the second line'''\n",
    "print(s)"
   ]
  },
  {
   "cell_type": "code",
   "execution_count": 8,
   "metadata": {},
   "outputs": [
    {
     "name": "stdout",
     "output_type": "stream",
     "text": [
      "This is a string. This continues the string.\n"
     ]
    }
   ],
   "source": [
    "'''\n",
    "强烈建议你对于每一行物理行最多只写入一行逻辑行。这个观点就是说你不应该使\n",
    "用分号。实际上，我从未在 Python 程序中使用、甚至是见过一个分号。\n",
    "\n",
    "在一类情况下这一方法会颇为有用：如果你有一行非常长的代码，你可以通过使用反斜杠将\n",
    "其拆分成多个物理行。这被称作显式行连接（Explicit Line Joining）\n",
    "\n",
    "注意： \\ 后面不要有空格\n",
    "\n",
    "'''\n",
    "\n",
    "s = 'This is a string. \\\n",
    "This continues the string.'\n",
    "print(s)\n"
   ]
  },
  {
   "cell_type": "code",
   "execution_count": 9,
   "metadata": {},
   "outputs": [
    {
     "name": "stdout",
     "output_type": "stream",
     "text": [
      "5\n"
     ]
    }
   ],
   "source": [
    "i = \\\n",
    "5\n",
    "print(i)"
   ]
  },
  {
   "cell_type": "markdown",
   "metadata": {},
   "source": [
    "### 运算符\n",
    "\n",
    "- // （整除）\n",
    "    - x 除以 y 并对结果向下取整至最接近的整数。\n",
    "    - 13 // 3 输出 4 。\n",
    "    - -13 // 3 输出 -5 。\n",
    "- % （取模）\n",
    "    - 返回除法运算后的余数。\n",
    "    - 13 % 3 输出 1 。 -25.5 % 2.25 输出 1.5 。 \n",
    "    - 对于整型数a，b来说，取模运算或者求余运算的方法都是：\n",
    "        - 1.求 整数商： `c = a/b`;\n",
    "        - 2.计算模或者余数： `r = a - c*b`.\n",
    "\n",
    "    - 归纳：\n",
    "        - 当a和b符号一致时，求模运算和求余运算所得的c的值一致，因此结果一致。\n",
    "        - 当符号不一致时，结果不一样。求模运算结果的符号和b一致，求余运算结果的符号和a一致。\n",
    "\n",
    "- << （左移）\n",
    "    - 将数字的位向左移动指定的位数。（每个数字在内存中以二进制数表示，即 0 和1）\n",
    "    - 2 << 2 输出 8 。 2 用二进制数表示为 10 。\n",
    "    - 向左移 2 位会得到 1000 这一结果，表示十进制中的 8 。\n",
    "- `>> （右移）`\n",
    "    - 将数字的位向右移动指定的位数。\n",
    "    - 11 >> 1 输出 5 。\n",
    "    - 11 在二进制中表示为 1011 ，右移一位后输出 101 这一结果，表示十进制中的 5 。\n",
    "\n",
    "    "
   ]
  },
  {
   "cell_type": "code",
   "execution_count": 10,
   "metadata": {},
   "outputs": [
    {
     "data": {
      "text/plain": [
       "4"
      ]
     },
     "execution_count": 10,
     "metadata": {},
     "output_type": "execute_result"
    }
   ],
   "source": [
    "13//3"
   ]
  },
  {
   "cell_type": "code",
   "execution_count": 11,
   "metadata": {},
   "outputs": [
    {
     "data": {
      "text/plain": [
       "-5"
      ]
     },
     "execution_count": 11,
     "metadata": {},
     "output_type": "execute_result"
    }
   ],
   "source": [
    "-13//3 # 向下取整 -4.多 向下取整是 -5"
   ]
  },
  {
   "cell_type": "code",
   "execution_count": 12,
   "metadata": {},
   "outputs": [
    {
     "data": {
      "text/plain": [
       "1"
      ]
     },
     "execution_count": 12,
     "metadata": {},
     "output_type": "execute_result"
    }
   ],
   "source": [
    "13%3"
   ]
  },
  {
   "cell_type": "code",
   "execution_count": 13,
   "metadata": {},
   "outputs": [
    {
     "data": {
      "text/plain": [
       "1.5"
      ]
     },
     "execution_count": 13,
     "metadata": {},
     "output_type": "execute_result"
    }
   ],
   "source": [
    "'''\n",
    "c = a/b; -25.5/2.25 = -12 (向下取整)\n",
    "r = a - c*b. r = -25.5 - (-12 * 2.25) = 1.5\n",
    "'''\n",
    "-25.5%2.25\n"
   ]
  },
  {
   "cell_type": "code",
   "execution_count": 14,
   "metadata": {},
   "outputs": [
    {
     "data": {
      "text/plain": [
       "8"
      ]
     },
     "execution_count": 14,
     "metadata": {},
     "output_type": "execute_result"
    }
   ],
   "source": [
    "'''\n",
    "2  ----- 10 \n",
    "左移两位\n",
    "\n",
    "8  ----- 1000 \n",
    "\n",
    "（2**3， 2**2， 2**1， 2**0）\n",
    "\n",
    "'''\n",
    "2<<2\n"
   ]
  },
  {
   "cell_type": "code",
   "execution_count": 15,
   "metadata": {},
   "outputs": [
    {
     "data": {
      "text/plain": [
       "5"
      ]
     },
     "execution_count": 15,
     "metadata": {},
     "output_type": "execute_result"
    }
   ],
   "source": [
    "'''\n",
    "11 ---- 1011 (8+2+1)\n",
    "右移 1 位\n",
    "5  ----- 101 （4+1） \n",
    "\n",
    "'''\n",
    "\n",
    "11>>1"
   ]
  },
  {
   "cell_type": "markdown",
   "metadata": {},
   "source": [
    "- & （按位与）\n",
    "    - 对数字进行按位与操作。\n",
    "    - 5 & 3 输出 1 。\n",
    "- | （按位或）\n",
    "    - 对数字进行按位或操作。运算规则：0 ^ 0 = 0;0 ^ 1 = 1;1 ^ 0 = 1;1 ^ 1 = 0;\n",
    "    - 5 | 3 输出 7 。\n",
    "- ^ （按位异或）\n",
    "    - 对数字进行按位异或操作。\n",
    "    - 5 ^ 3 输出 6 。\n",
    "- ~ （按位取反）\n",
    "    - x 的按位取反结果为 -(x+1)。\n",
    "    - ~5 输出 -6 。有关本例的更多细节可以参\n",
    "    - 阅：http://stackoverflow.com/a/11810203 。\n",
    "- < （小于）\n",
    "    - 返回 x 是否小于 y。所有的比较运算符返回的结果均为 True 或 False 。请注意这些名称之中的大写字母。\n",
    "    - 5 < 3 输出 False ， 3 < 6 输出 True 。\n"
   ]
  },
  {
   "cell_type": "code",
   "execution_count": 16,
   "metadata": {},
   "outputs": [
    {
     "name": "stdout",
     "output_type": "stream",
     "text": [
      "False\n",
      "-6\n",
      "6\n"
     ]
    }
   ],
   "source": [
    "print(5 < 3)\n",
    "print(~5)\n",
    "a = 2\n",
    "a *= 3\n",
    "print(a)"
   ]
  },
  {
   "cell_type": "code",
   "execution_count": 18,
   "metadata": {},
   "outputs": [
    {
     "name": "stdout",
     "output_type": "stream",
     "text": [
      "Enter an integer :89\n",
      "No, it is a little lower than that\n",
      "Done\n"
     ]
    }
   ],
   "source": [
    "number = 23\n",
    "guess = int(input('Enter an integer :'))\n",
    "\n",
    "if guess == number:\n",
    "    print('Congratulations, you guessed it.')\n",
    "    print('(but you do not win any prizes!)')\n",
    "# 新块在这里结束\n",
    "elif guess < number:\n",
    "# 另一代码块\n",
    "    print('No, it is a little higher than that')\n",
    "# 你可以在此做任何你希望在该代码块内进行的事情\n",
    "else:\n",
    "    print('No, it is a little lower than that')\n",
    "# 你必须通过猜测一个大于（>）设置数的数字来到达这里。\n",
    "print('Done')\n"
   ]
  },
  {
   "cell_type": "code",
   "execution_count": 19,
   "metadata": {},
   "outputs": [
    {
     "name": "stdout",
     "output_type": "stream",
     "text": [
      "Enter an integer:90\n",
      "No, it is a little lower than that.\n",
      "Enter an integer:11\n",
      "No, it is a little higher than that.\n",
      "Enter an integer:23\n",
      "Congratulations, you guessed it.\n",
      "The while loop is over.\n",
      "Done\n"
     ]
    }
   ],
   "source": [
    "number = 23\n",
    "running = True\n",
    "\n",
    "while running:\n",
    "    guess = int(input('Enter an integer:'))\n",
    "    \n",
    "    if guess == number:\n",
    "        print('Congratulations, you guessed it.')\n",
    "        # 这将导致 while 循环中止\n",
    "        running = False\n",
    "    elif guess < number:\n",
    "        print('No, it is a little higher than that.')\n",
    "    else:\n",
    "        print('No, it is a little lower than that.')\n",
    "else:\n",
    "    print('The while loop is over.')\n",
    "# 在这里你可以做你想做的任何事\n",
    "print('Done')\n",
    " "
   ]
  },
  {
   "cell_type": "code",
   "execution_count": 20,
   "metadata": {},
   "outputs": [
    {
     "name": "stdout",
     "output_type": "stream",
     "text": [
      "1\n",
      "2\n",
      "3\n",
      "4\n",
      "The for loop is over\n"
     ]
    }
   ],
   "source": [
    "for i in range(1,5):\n",
    "    print(i)\n",
    "else:\n",
    "    print('The for loop is over')"
   ]
  },
  {
   "cell_type": "code",
   "execution_count": 21,
   "metadata": {},
   "outputs": [
    {
     "name": "stdout",
     "output_type": "stream",
     "text": [
      "Enter something:what?\n",
      "Length of the string is 5\n",
      "Enter something:quit\n",
      "Done\n"
     ]
    }
   ],
   "source": [
    "while True:\n",
    "    s = input('Enter something:')\n",
    "    if s == 'quit':\n",
    "        break\n",
    "    print('Length of the string is', len(s))\n",
    "print('Done')    "
   ]
  },
  {
   "cell_type": "code",
   "execution_count": 22,
   "metadata": {},
   "outputs": [
    {
     "name": "stdout",
     "output_type": "stream",
     "text": [
      "Enter something:hello\n",
      "Input is of sufficient length\n",
      "Enter something:o\n",
      "Too small\n",
      "Enter something:quit\n"
     ]
    }
   ],
   "source": [
    "# 用 continue 语句跳过代码块中的其余语句。\n",
    "while True:\n",
    "    s = input('Enter something:')\n",
    "    if s == 'quit':\n",
    "        break\n",
    "    if len(s) < 3:\n",
    "        print('Too small')\n",
    "        continue\n",
    "    print('Input is of sufficient length')    "
   ]
  },
  {
   "cell_type": "code",
   "execution_count": 23,
   "metadata": {},
   "outputs": [
    {
     "name": "stdout",
     "output_type": "stream",
     "text": [
      "Hello \n",
      "World World World World World \n"
     ]
    }
   ],
   "source": [
    "def say(message, times=1):\n",
    "    print(message * times)\n",
    "    \n",
    "say('Hello ')    \n",
    "say('World ', 5)"
   ]
  },
  {
   "cell_type": "code",
   "execution_count": 27,
   "metadata": {},
   "outputs": [
    {
     "name": "stdout",
     "output_type": "stream",
     "text": [
      "a is 3 and b is 7 and c is 10\n",
      "a is 35 and b is 5 and c is 30\n",
      "a is 888 and b is 9 and c is 80\n"
     ]
    }
   ],
   "source": [
    "'''\n",
    "关键字参数（Keyword Arguments）\n",
    "'''\n",
    "def func(a, b=5, c=10):\n",
    "    print('a is',a, 'and b is', b, 'and c is', c)\n",
    "    \n",
    "func(3,7)    \n",
    "func(35, c= 30)\n",
    "func(c=80,b=9,a=888)"
   ]
  },
  {
   "cell_type": "code",
   "execution_count": 37,
   "metadata": {},
   "outputs": [
    {
     "name": "stdout",
     "output_type": "stream",
     "text": [
      "a 10\n",
      "single_item 1\n",
      "single_item 2\n",
      "single_item 3\n",
      "Jack 101010\n",
      "John 22323\n",
      "Inge 1889\n",
      "None\n"
     ]
    }
   ],
   "source": [
    "'''\n",
    "可变参数\n",
    "'''\n",
    "def total(a=5, *numbers, **phonebook):\n",
    "    print('a', a)\n",
    "    \n",
    "    for single_item in numbers:\n",
    "        print('single_item', single_item)\n",
    "        \n",
    "    for first_part,second_part in phonebook.items():\n",
    "        print(first_part,second_part)\n",
    "        \n",
    "print(total(10,1,2,3,Jack=101010,John=22323,Inge=1889))\n",
    "    "
   ]
  },
  {
   "cell_type": "code",
   "execution_count": 44,
   "metadata": {},
   "outputs": [
    {
     "name": "stdout",
     "output_type": "stream",
     "text": [
      "5 is maximum\n",
      "打印两个数值中的最大数。\n",
      "    \n",
      "    这两个数都应该是整数\n"
     ]
    }
   ],
   "source": [
    "'''\n",
    "文档字符串（Documentation Strings）\n",
    "\n",
    "该文档字符串所约定的是一串多行字符串，其中第一行以某一大写字母开始，以句号结束。\n",
    "第二行为空行，后跟的第三行开始是任何详细的解释说明。 在此强烈建议你在你所有重要功\n",
    "能的所有文档字符串中都遵循这一约定。\n",
    "\n",
    "'''\n",
    "\n",
    "\n",
    "def print_max(x, y):\n",
    "    '''打印两个数值中的最大数。\n",
    "    \n",
    "    这两个数都应该是整数'''\n",
    "    # 如果可能，将其转换至整数类型\n",
    "    x = int(x)\n",
    "    y = int(y)\n",
    "    if x > y:\n",
    "        print(x, 'is maximum')\n",
    "    else:\n",
    "        print(y, 'is maximum')\n",
    "        \n",
    "print_max(3, 5)\n",
    "print(print_max.__doc__)\n"
   ]
  },
  {
   "cell_type": "code",
   "execution_count": 45,
   "metadata": {},
   "outputs": [
    {
     "name": "stdout",
     "output_type": "stream",
     "text": [
      "Help on function print_max in module __main__:\n",
      "\n",
      "print_max(x, y)\n",
      "    打印两个数值中的最大数。\n",
      "    \n",
      "    这两个数都应该是整数\n",
      "\n"
     ]
    }
   ],
   "source": [
    "help(print_max)"
   ]
  },
  {
   "cell_type": "code",
   "execution_count": null,
   "metadata": {},
   "outputs": [],
   "source": [
    "import sys\n",
    "\n",
    "print('The command line arguments are:')\n",
    "for i in sys.argv:\n",
    "    print(i)\n",
    "    \n",
    "print('\\n\\n The PYTHONPATH is',sys.path,'\\n') "
   ]
  },
  {
   "cell_type": "markdown",
   "metadata": {},
   "source": [
    "```\n",
    ">python module_using_sys.py we are arguments\n",
    "The command line arguments are:\n",
    "module_using_sys.py\n",
    "we\n",
    "are\n",
    "arguments\n",
    "\n",
    "\n",
    " The Python Path is ['D:\\\\github\\\\python\\\\Deep-Learning\\\\python', 'D:\\\\Program Files\\\\Python36\\\\python36.zip', 'D:\\\\Program Files\\\\Python36\\\\DLLs', 'D:\\\\Program Files\\\\Python36\\\\lib', 'D:\\\\Program Files\\\\Python36', 'C:\\\\Users\\\\qhtf\\\\AppData\\\\Roaming\\\\Python\\\\Python36\\\\site-packages', 'D:\\\\Program Files\\\\Python36\\\\lib\\\\site-packages']\n",
    "\n",
    "```"
   ]
  },
  {
   "cell_type": "code",
   "execution_count": 47,
   "metadata": {},
   "outputs": [
    {
     "name": "stdout",
     "output_type": "stream",
     "text": [
      "D:\\github\\python\\Deep-Learning\\python\n"
     ]
    }
   ],
   "source": [
    "import os\n",
    "\n",
    "print(os.getcwd())"
   ]
  },
  {
   "cell_type": "code",
   "execution_count": 51,
   "metadata": {},
   "outputs": [
    {
     "name": "stdout",
     "output_type": "stream",
     "text": [
      "Help on built-in function sqrt in module math:\n",
      "\n",
      "sqrt(...)\n",
      "    sqrt(x)\n",
      "    \n",
      "    Return the square root of x.\n",
      "\n",
      "Square root of 16 is 4.0\n"
     ]
    }
   ],
   "source": [
    "from sys import argv\n",
    "from math import sqrt\n",
    "\n",
    "help(sqrt)\n",
    "print('Square root of 16 is', sqrt(16))"
   ]
  },
  {
   "cell_type": "code",
   "execution_count": 52,
   "metadata": {},
   "outputs": [
    {
     "name": "stdout",
     "output_type": "stream",
     "text": [
      "Hi, this is mymodule speaking.\n",
      "Version 0.1\n"
     ]
    }
   ],
   "source": [
    "import mymodule\n",
    "\n",
    "mymodule.say_hi()\n",
    "print('Version', mymodule.__version__)"
   ]
  },
  {
   "cell_type": "code",
   "execution_count": 53,
   "metadata": {},
   "outputs": [
    {
     "name": "stdout",
     "output_type": "stream",
     "text": [
      "Hi, this is mymodule speaking.\n",
      "Version 0.1\n"
     ]
    }
   ],
   "source": [
    "from mymodule import say_hi,__version__\n",
    "\n",
    "say_hi()\n",
    "print('Version',__version__)"
   ]
  },
  {
   "cell_type": "code",
   "execution_count": 54,
   "metadata": {},
   "outputs": [
    {
     "name": "stdout",
     "output_type": "stream",
     "text": [
      "The Zen of Python, by Tim Peters\n",
      "\n",
      "Beautiful is better than ugly.\n",
      "Explicit is better than implicit.\n",
      "Simple is better than complex.\n",
      "Complex is better than complicated.\n",
      "Flat is better than nested.\n",
      "Sparse is better than dense.\n",
      "Readability counts.\n",
      "Special cases aren't special enough to break the rules.\n",
      "Although practicality beats purity.\n",
      "Errors should never pass silently.\n",
      "Unless explicitly silenced.\n",
      "In the face of ambiguity, refuse the temptation to guess.\n",
      "There should be one-- and preferably only one --obvious way to do it.\n",
      "Although that way may not be obvious at first unless you're Dutch.\n",
      "Now is better than never.\n",
      "Although never is often better than *right* now.\n",
      "If the implementation is hard to explain, it's a bad idea.\n",
      "If the implementation is easy to explain, it may be a good idea.\n",
      "Namespaces are one honking great idea -- let's do more of those!\n"
     ]
    }
   ],
   "source": [
    "import this"
   ]
  },
  {
   "cell_type": "code",
   "execution_count": null,
   "metadata": {},
   "outputs": [],
   "source": [
    "import sys\n",
    "\n",
    "# 给出 sys 模块中的属性名称\n",
    "dir(sys)\n",
    "\n",
    "# 给出当前模块的属性名称\n",
    "dir()"
   ]
  },
  {
   "cell_type": "markdown",
   "metadata": {},
   "source": [
    "### 包（Packages）\n",
    "\n",
    "包是指一个包含模块与一个特殊的 __init__.py 文件的文件夹，后者向 Python 表明这一文件夹是特别的，因为其包含了 Python 模块。\n",
    "让我们这样设想：你想创建一个名为“world”的包，其中还包含着“asia”、“africa”等其它子包，同时这些子包都包含了诸如“india”、 “madagascar”等模块。"
   ]
  },
  {
   "cell_type": "markdown",
   "metadata": {},
   "source": [
    "### 数据结构\n",
    "\n",
    "数据结构（Data Structures）基本上人如其名——它们只是一种结构，能够将一些数据聚合在一起。换句话说，它们是用来存储一系列相关数据的集合。\n",
    "\n",
    "Python 中有四种内置的数据结构——列表（List）、元组（Tuple）、字典（Dictionary）和集合（Set）。我们将了解如何使用它们，并利用它们将我们的编程之路变得更加简单。\n",
    "\n",
    "列表是可变的（Mutable）而字符串是不可变的（Immutable）。"
   ]
  },
  {
   "cell_type": "code",
   "execution_count": 58,
   "metadata": {},
   "outputs": [
    {
     "name": "stdout",
     "output_type": "stream",
     "text": [
      "I have 4 items to purchase\n",
      "I have 4 items to purchase\n",
      "These items are: apple mango carrot banana \n",
      " I also have to buy rice.\n",
      "My shopping list is now ['apple', 'mango', 'carrot', 'banana', 'rice']\n",
      "I will sort my list now\n",
      "Sorted shopping list is now ['apple', 'banana', 'carrot', 'mango', 'rice']\n",
      "The first item I will buy is apple\n",
      "I bought the apple\n",
      "My shopping list is now ['banana', 'carrot', 'mango', 'rice']\n"
     ]
    }
   ],
   "source": [
    "'''\n",
    "list 列表\n",
    "'''\n",
    "shoplist = ['apple', 'mango', 'carrot','banana']\n",
    "\n",
    "print('I have', len(shoplist), 'items to purchase')\n",
    "print('I have %d items to purchase'% len(shoplist))\n",
    "\n",
    "print('These items are:', end=' ')\n",
    "for item in shoplist:\n",
    "    print(item, end=' ')\n",
    "    \n",
    "print('\\n I also have to buy rice.')    \n",
    "shoplist.append('rice')\n",
    "print('My shopping list is now', shoplist)\n",
    "\n",
    "print('I will sort my list now')\n",
    "shoplist.sort()\n",
    "print('Sorted shopping list is now', shoplist)\n",
    "\n",
    "print('The first item I will buy is', shoplist[0])\n",
    "olditem = shoplist[0]\n",
    "\n",
    "del shoplist[0]\n",
    "\n",
    "print('I bought the',olditem)\n",
    "\n",
    "print('My shopping list is now',shoplist)"
   ]
  },
  {
   "cell_type": "markdown",
   "metadata": {},
   "source": [
    "### 元组（Tuple）\n",
    "\n",
    "元组（Tuple）用于将多个对象保存到一起。你可以将它们近似地看作列表，但是元组不能提供列表类能够提供给你的广泛的功能。元组的一大特征类似于字符串，它们是不可变的，也就是说，你不能编辑或更改元组。"
   ]
  },
  {
   "cell_type": "code",
   "execution_count": 59,
   "metadata": {},
   "outputs": [
    {
     "name": "stdout",
     "output_type": "stream",
     "text": [
      "Number od animals in the zoo is 3\n",
      "Number of cages in the new zoo is 3\n",
      "All animals in the zoo are ('monkey', 'camel', ('python', 'elephant', 'penguin'))\n",
      "Animals brought from old zoo are ('python', 'elephant', 'penguin')\n",
      "Last animal brought from old zoo is penguin\n",
      "Number of animals in the new zoo is 5\n"
     ]
    }
   ],
   "source": [
    "zoo = ('python','elephant','penguin')\n",
    "print('Number od animals in the zoo is',len(zoo))\n",
    "\n",
    "new_zoo = 'monkey','camel',zoo\n",
    "\n",
    "print('Number of cages in the new zoo is', len(new_zoo))\n",
    "print('All animals in the zoo are',new_zoo)\n",
    "print('Animals brought from old zoo are', new_zoo[2])\n",
    "\n",
    "print('Last animal brought from old zoo is',new_zoo[2][2])\n",
    "print('Number of animals in the new zoo is',len(new_zoo)-1 + len(new_zoo[2]))"
   ]
  },
  {
   "cell_type": "code",
   "execution_count": 64,
   "metadata": {},
   "outputs": [
    {
     "name": "stdout",
     "output_type": "stream",
     "text": [
      "Swaroop's address is swaroop@swaroopch.com\n",
      "\n",
      "There are 3 contacts in the address-book\n",
      "\n",
      "There are 3 contacts in the address-book\n",
      "\n",
      "Contact Swaroop at swaroop@swaroopch.com\n",
      "Contact Larry at larry@wall.org\n",
      "Contact Matsumoto at matz@ruby-lang.org\n",
      "\n",
      "Guido's address is guido@python.org\n"
     ]
    }
   ],
   "source": [
    "'''\n",
    "Dictionary 字典\n",
    "\n",
    "'''\n",
    "ab = {\n",
    "    'Swaroop': 'swaroop@swaroopch.com',\n",
    "    'Larry': 'larry@wall.org',\n",
    "    'Matsumoto': 'matz@ruby-lang.org',\n",
    "    'Spammer': 'spammer@hotmail.com'\n",
    "}\n",
    "\n",
    "print(\"Swaroop's address is\", ab['Swaroop'])\n",
    "\n",
    "del ab['Spammer']\n",
    "\n",
    "print('\\nThere are {} contacts in the address-book\\n'.format(len(ab)))\n",
    "print('There are %d contacts in the address-book\\n'%len(ab))\n",
    "\n",
    "for name, address in ab.items():\n",
    "    print('Contact {} at {}'.format(name, address))\n",
    "    \n",
    "ab['Guido'] = 'guido@python.org'\n",
    "\n",
    "if 'Guido' in ab:\n",
    "    print(\"\\nGuido's address is\",ab['Guido'])\n"
   ]
  },
  {
   "cell_type": "code",
   "execution_count": 65,
   "metadata": {},
   "outputs": [
    {
     "name": "stdout",
     "output_type": "stream",
     "text": [
      "Item 0 is apple\n",
      "Item 1 is mango\n",
      "Item 2 is carrot\n",
      "Item 3 is banana\n",
      "Item -1 is banana\n",
      "Item -2 is carrot\n",
      "Character 0 is s\n"
     ]
    }
   ],
   "source": [
    "shoplist = ['apple', 'mango', 'carrot', 'banana']\n",
    "name = 'swaroop'\n",
    "\n",
    "# Indexing or 'Subscription' operation #\n",
    "# 索引或“下标（Subscription）”操作符 #\n",
    "print('Item 0 is', shoplist[0])\n",
    "print('Item 1 is', shoplist[1])\n",
    "print('Item 2 is', shoplist[2])\n",
    "print('Item 3 is', shoplist[3])\n",
    "print('Item -1 is', shoplist[-1])\n",
    "print('Item -2 is', shoplist[-2])\n",
    "print('Character 0 is', name[0])\n"
   ]
  },
  {
   "cell_type": "code",
   "execution_count": 66,
   "metadata": {},
   "outputs": [
    {
     "name": "stdout",
     "output_type": "stream",
     "text": [
      "Item 1 to 3 is ['mango', 'carrot']\n",
      "Item 2 to end is ['carrot', 'banana']\n",
      "Item 1 to -1 is ['mango', 'carrot']\n",
      "Item start to end is ['apple', 'mango', 'carrot', 'banana']\n"
     ]
    }
   ],
   "source": [
    "# Slicing on a list shoplist = ['apple', 'mango', 'carrot', 'banana']#\n",
    "print('Item 1 to 3 is', shoplist[1:3]) # 索引 1 开始 到 3 不包括3 \n",
    "print('Item 2 to end is', shoplist[2:])\n",
    "print('Item 1 to -1 is', shoplist[1:-1])\n",
    "print('Item start to end is', shoplist[:])"
   ]
  },
  {
   "cell_type": "code",
   "execution_count": 67,
   "metadata": {},
   "outputs": [
    {
     "name": "stdout",
     "output_type": "stream",
     "text": [
      "characters 1 to 3 is wa\n",
      "characters 2 to end is aroop\n",
      "characters 1 to -1 is waroo\n",
      "characters start to end is swaroop\n"
     ]
    }
   ],
   "source": [
    "# 从某一字符串中切片 name = 'swaroop'#\n",
    "print('characters 1 to 3 is', name[1:3])\n",
    "print('characters 2 to end is', name[2:])\n",
    "print('characters 1 to -1 is', name[1:-1])\n",
    "print('characters start to end is', name[:])\n"
   ]
  },
  {
   "cell_type": "markdown",
   "metadata": {},
   "source": [
    "你同样可以在切片操作中提供第三个参数，这一参数将被视为切片的步长（Step）（在默认情况下，步长大小为 1）：\n"
   ]
  },
  {
   "cell_type": "code",
   "execution_count": 75,
   "metadata": {},
   "outputs": [
    {
     "name": "stdout",
     "output_type": "stream",
     "text": [
      "['a', 'b', 'c', 'd', 'e', 'f']\n",
      "['a', 'c', 'e']\n",
      "['a', 'd']\n",
      "['f', 'e', 'd', 'c', 'b', 'a']\n",
      "['f', 'd', 'b']\n"
     ]
    }
   ],
   "source": [
    "ablist = ['a','b','c','d','e','f']\n",
    "\n",
    "print(ablist[::1])\n",
    "print(ablist[::2])\n",
    "print(ablist[::3])\n",
    "print(ablist[::-1])\n",
    "print(ablist[::-2])"
   ]
  },
  {
   "cell_type": "code",
   "execution_count": 76,
   "metadata": {},
   "outputs": [
    {
     "data": {
      "text/plain": [
       "True"
      ]
     },
     "execution_count": 76,
     "metadata": {},
     "output_type": "execute_result"
    }
   ],
   "source": [
    "bri = set(['brazil', 'russia', 'india'])\n",
    "'india' in bri"
   ]
  },
  {
   "cell_type": "code",
   "execution_count": 77,
   "metadata": {},
   "outputs": [
    {
     "data": {
      "text/plain": [
       "True"
      ]
     },
     "execution_count": 77,
     "metadata": {},
     "output_type": "execute_result"
    }
   ],
   "source": [
    "bric = bri.copy()\n",
    "bric.add('china')\n",
    "bric.issuperset(bri)"
   ]
  },
  {
   "cell_type": "code",
   "execution_count": 82,
   "metadata": {},
   "outputs": [
    {
     "name": "stdout",
     "output_type": "stream",
     "text": [
      "{'india', 'brazil'}\n",
      "{'india', 'brazil'}\n"
     ]
    }
   ],
   "source": [
    "bri.add('russia')\n",
    "bri.remove('russia')\n",
    "print(bri & bric)\n",
    "print(bri.intersection(bric))"
   ]
  },
  {
   "cell_type": "markdown",
   "metadata": {},
   "source": [
    "### 引用\n",
    "\n",
    "当你创建了一个对象并将其分配给某个变量时，变量只会查阅（Refer）某个对象，并且它也不会代表对象本身。也就是说，变量名只是指向你计算机内存中存储了相应对象的那一部分。这叫作将名称绑定（Binding）给那一个对象。"
   ]
  },
  {
   "cell_type": "code",
   "execution_count": 86,
   "metadata": {},
   "outputs": [
    {
     "name": "stdout",
     "output_type": "stream",
     "text": [
      "Simple Assignment\n",
      "shoplist is ['mango', 'carrot', 'banana']\n",
      "mylist is ['mango', 'carrot', 'banana']\n"
     ]
    }
   ],
   "source": [
    "print('Simple Assignment')\n",
    "shoplist = ['apple', 'mango', 'carrot', 'banana']\n",
    "# mylist 只是指向同一对象的另一种名称\n",
    "mylist = shoplist\n",
    "\n",
    "del shoplist[0]\n",
    "\n",
    "print('shoplist is', shoplist)\n",
    "print('mylist is', mylist)\n",
    "\n",
    "# 注意到 shoplist 和 mylist 二者都\n",
    "# 打印出了其中都没有 apple 的同样的列表，以此我们确认\n",
    "# 它们指向的是同一个对象\n"
   ]
  },
  {
   "cell_type": "code",
   "execution_count": 88,
   "metadata": {},
   "outputs": [
    {
     "name": "stdout",
     "output_type": "stream",
     "text": [
      "Copy by making a full slice\n",
      "shoplist is ['apple', 'mango', 'carrot', 'banana']\n",
      "mylist is ['mango', 'carrot', 'banana']\n"
     ]
    }
   ],
   "source": [
    "print('Copy by making a full slice')\n",
    "\n",
    "# 通过生成一份完整的切片制作一份列表的副本\n",
    "shoplist = ['apple', 'mango', 'carrot', 'banana']\n",
    "\n",
    "mylist = shoplist[:]\n",
    "del mylist[0]\n",
    "\n",
    "print('shoplist is', shoplist)\n",
    "print('mylist is', mylist)\n",
    "\n",
    "# 注意到现在两份列表已出现不同\n"
   ]
  },
  {
   "cell_type": "markdown",
   "metadata": {},
   "source": [
    "### 有关字符串的更多内容\n",
    "\n",
    "- startswith 方法用于查找字符串是否以给定的字符串内容开头。 \n",
    "- in 运算符用以检查给定的字符串是否是查询的字符串中的一部分。\n",
    "- find 方法用于定位字符串中给定的子字符串的位置。如果找不到相应的子字符串， find会返回 -1。 \n",
    "- str 类同样还拥有一个简洁的方法用以 联结（Join） 序列中的项目，其中字符串将会作为每一项目之间的分隔符，并以此生成并返回一串更大的字符串。\n"
   ]
  },
  {
   "cell_type": "code",
   "execution_count": 90,
   "metadata": {},
   "outputs": [
    {
     "name": "stdout",
     "output_type": "stream",
     "text": [
      "Yes, the string starts with \"Swa\"\n",
      "Yes, it contains the string \"a\"\n",
      "Yes, it contains the string \"war\"\n",
      "Brazil_*_Russia_*_India_*_China\n"
     ]
    }
   ],
   "source": [
    "'''\n",
    "有关字符串的更多内容\n",
    "\n",
    "'''\n",
    "# 这是一个字符串对象\n",
    "name = 'Swaroop'\n",
    "\n",
    "if name.startswith('Swa'):\n",
    "    print('Yes, the string starts with \"Swa\"')\n",
    "\n",
    "if  'a' in name:\n",
    "    print('Yes, it contains the string \"a\"')\n",
    "\n",
    "if name.find('war') != -1:    \n",
    "    print('Yes, it contains the string \"war\"')\n",
    "    \n",
    "delimiter = '_*_'    \n",
    "mylist = ['Brazil', 'Russia', 'India', 'China']\n",
    "print(delimiter.join(mylist))\n",
    "\n"
   ]
  },
  {
   "cell_type": "markdown",
   "metadata": {},
   "source": [
    "### 问题 \n",
    "\n",
    "我们希望解决的问题如下：\n",
    "\n",
    ">我想要一款程序来备份我所有的重要文件。\n",
    "\n",
    "分析（Analysis）--- 例如，我们应该如何指定哪些文件是我们需要备份\n",
    "的？它们应该如何进行备份？储存到哪里?\n",
    "\n",
    "设计（Design）\n",
    "\n",
    "- 需要备份的文件与目录应在一份列表中予以指定。\n",
    "- 备份必须存储在一个主备份目录中。\n",
    "- 备份文件将打包压缩成 zip 文件。\n",
    "- zip 压缩文件的文件名由当前日期与时间构成。\n",
    "- 我们使用在任何 GNU/Linux 或 Unix 发行版中都会默认提供的标准 zip 命令进行打包。\n",
    "- 在这里你需要了解到只要有命令行界面，你就可以使用任何需要用到的压缩或归档命令。\n",
    "\n",
    "\n"
   ]
  },
  {
   "cell_type": "code",
   "execution_count": 91,
   "metadata": {},
   "outputs": [
    {
     "name": "stdout",
     "output_type": "stream",
     "text": [
      "Zip command is:\n",
      "zip -r E:\\qqfile\\backup\\20180313152803zip D:\\github\\python\\Deep-Learning\\python\\source\n",
      "Running:\n",
      "Successful backup to E:\\qqfile\\backup\\20180313152803zip\n"
     ]
    }
   ],
   "source": [
    "'''\n",
    "第一版\n",
    "\n",
    "\n",
    "'''\n",
    "\n",
    "import os\n",
    "import time\n",
    "\n",
    "# 1. 需要备份的文件与目录将被\n",
    "# 指定在一个列表中。\n",
    "# 例如在 Windows 下：\n",
    "# source = ['\"C:\\\\My Documents\"', 'C:\\\\Code']\n",
    "# 又例如在 Mac OS X 与 Linux 下： source = ['/Users/swa/notes']\n",
    "\n",
    "source = [\"D:\\\\github\\\\python\\\\Deep-Learning\\\\python\\\\source\"]\n",
    "\n",
    "# 在这里要注意到我们必须在字符串中使用双引号\n",
    "# 用以括起其中包含空格的名称。\n",
    "\n",
    "#2. 备份文件必须存储在一个\n",
    "#主备份目录中\n",
    "#例如在 Windows 下：\n",
    "# target_dir = 'E:\\\\Backup'\n",
    "# 又例如在 Mac OS X 和 Linux 下：target_dir = '/Users/swa/backup'\n",
    "target_dir = 'E:\\\\qqfile\\\\backup'\n",
    "\n",
    "# 要记得将这里的目录地址修改至你将使用的路径\n",
    "\n",
    "# 3. 备份文件将打包压缩成 zip 文件。\n",
    "# 4. zip 压缩文件的文件名由当前日期与时间构成。\n",
    "target = target_dir + os.sep + time.strftime('%Y%m%d%H%M%S') + 'zip'\n",
    "\n",
    "# 如果目标目录还不存在，则进行创建\n",
    "\n",
    "if not os.path.exists(target_dir):\n",
    "    os.mkdir(target_dir) # 创建目录\n",
    "    \n",
    "# 5. 我们使用 zip 命令将文件打包成 zip 格式\n",
    "zip_command = 'zip -r {0} {1}'.format(target,' '.join(source))\n",
    "\n",
    "# 运行备份   \n",
    "print('Zip command is:')\n",
    "print(zip_command)\n",
    "print('Running:')\n",
    "if os.system(zip_command) == 0:\n",
    "    print('Successful backup to', target)\n",
    "else:\n",
    "    print('Backup Failed')\n",
    "\n"
   ]
  },
  {
   "cell_type": "markdown",
   "metadata": {},
   "source": [
    "os.sep 变量的使用方式——它将根据你的操作系统给出相应的分隔符，在\n",
    "GNU/Linux 与 Unix 中它会是 '/' ，在 Windows 中它会是 '\\\\' ，在 Mac OS 中它会是':' 。"
   ]
  },
  {
   "cell_type": "markdown",
   "metadata": {},
   "source": [
    "\n",
    "第二版\n",
    "\n",
    "我们的第一版脚本已经能够工作了。然而，我们还可以对它作出一些改进，从而使它能够更好地在每一天都可以正常工作。我们将这一阶段称之为软件的维护（Maintenance）阶段。\n",
    "\n",
    "我认为有一种颇为有用的改进是起用一种更好的文件命名机制——使用时间作为文件名，存储在以当前日期为名字的文件夹中，这一文件夹则照常存储在主备份目录下。\n",
    "- 这种机制的第一个优点在于你的备份会以分层的形式予以存储，从而使得它们能更易于管理。\n",
    "- 第二个优点是文件名能够更短。\n",
    "- 第三个优点在于由于只有当天进行了备份才会创建相应的目录，独立的目录能够帮助你快速地检查每天是否都进行了备份。\n",
    "\n"
   ]
  },
  {
   "cell_type": "code",
   "execution_count": 92,
   "metadata": {},
   "outputs": [
    {
     "name": "stdout",
     "output_type": "stream",
     "text": [
      "Successfully created directory E:\\qqfile\\backup\\20180313\n",
      "Zip command is:\n",
      "zip -r E:\\qqfile\\backup\\20180313\\154421.zip D:\\github\\python\\Deep-Learning\\python\\source\n",
      "Running:\n",
      "Successful backup to E:\\qqfile\\backup\\20180313\\154421.zip\n"
     ]
    }
   ],
   "source": [
    "'''\n",
    "第2版\n",
    "\n",
    "'''\n",
    "\n",
    "import os\n",
    "import time\n",
    "\n",
    "# 1. 需要备份的文件与目录将被\n",
    "# 指定在一个列表中。\n",
    "# 例如在 Windows 下：\n",
    "# source = ['\"C:\\\\My Documents\"', 'C:\\\\Code']\n",
    "# 又例如在 Mac OS X 与 Linux 下： source = ['/Users/swa/notes']\n",
    "\n",
    "source = [\"D:\\\\github\\\\python\\\\Deep-Learning\\\\python\\\\source\"]\n",
    "\n",
    "# 在这里要注意到我们必须在字符串中使用双引号\n",
    "# 用以括起其中包含空格的名称。\n",
    "\n",
    "#2. 备份文件必须存储在一个\n",
    "#主备份目录中\n",
    "#例如在 Windows 下：\n",
    "# target_dir = 'E:\\\\Backup'\n",
    "# 又例如在 Mac OS X 和 Linux 下：target_dir = '/Users/swa/backup'\n",
    "target_dir = 'E:\\\\qqfile\\\\backup'\n",
    "\n",
    "# 要记得将这里的目录地址修改至你将使用的路径\n",
    "\n",
    "if not os.path.exists(target_dir):\n",
    "    os.mkdir(target_dir) # 创建目录\n",
    "\n",
    "# 3. 备份文件将打包压缩成 zip 文件。\n",
    "# 4. 将当前日期作为主备份目录下的子目录名称\n",
    "today = target_dir + os.sep + time.strftime('%Y%m%d')\n",
    "# 将当前时间作为 zip 文件的文件名\n",
    "now = time.strftime('%H%M%S')\n",
    "# 如果目标目录还不存在，则进行创建\n",
    "\n",
    "# zip 文件名称格式\n",
    "target = today + os.sep + now +'.zip'\n",
    "\n",
    "if not os.path.exists(today):\n",
    "    os.mkdir(today) # 创建目录\n",
    "    print('Successfully created directory', today)\n",
    "    \n",
    "# 5. 我们使用 zip 命令将文件打包成 zip 格式\n",
    "zip_command = 'zip -r {0} {1}'.format(target,' '.join(source))\n",
    "\n",
    "# 运行备份   \n",
    "print('Zip command is:')\n",
    "print(zip_command)\n",
    "print('Running:')\n",
    "if os.system(zip_command) == 0:\n",
    "    print('Successful backup to', target)\n",
    "else:\n",
    "    print('Backup Failed')\n",
    "\n"
   ]
  },
  {
   "cell_type": "markdown",
   "metadata": {},
   "source": [
    "第三版\n",
    "\n",
    "第二版在我要制作多份备份时能够正常工作，但当备份数量过于庞大时，我便很难找出备份之间有什么区别了。例如，我可能对我的程序或者演示文稿做了重大修改，然后我想将这些修改与 zip 文件的文件名产生关联。这可以通过将用户提供的注释内容添加到文件名中来实现。\n",
    "\n",
    "预先提醒：下面给出的程序将不会正常工作，所以不必惊慌，只需跟着案例去做因为你要在里面学上一课。\n",
    "\n"
   ]
  },
  {
   "cell_type": "code",
   "execution_count": 2,
   "metadata": {},
   "outputs": [
    {
     "ename": "SyntaxError",
     "evalue": "invalid syntax (<ipython-input-2-a0cbe1ca32a2>, line 47)",
     "output_type": "error",
     "traceback": [
      "\u001b[1;36m  File \u001b[1;32m\"<ipython-input-2-a0cbe1ca32a2>\"\u001b[1;36m, line \u001b[1;32m47\u001b[0m\n\u001b[1;33m    target = today + os.sep + now + '_' +\u001b[0m\n\u001b[1;37m                                          ^\u001b[0m\n\u001b[1;31mSyntaxError\u001b[0m\u001b[1;31m:\u001b[0m invalid syntax\n"
     ]
    }
   ],
   "source": [
    "'''\n",
    "第3版\n",
    "\n",
    "'''\n",
    "\n",
    "import os\n",
    "import time\n",
    "\n",
    "# 1. 需要备份的文件与目录将被\n",
    "# 指定在一个列表中。\n",
    "# 例如在 Windows 下：\n",
    "# source = ['\"C:\\\\My Documents\"', 'C:\\\\Code']\n",
    "# 又例如在 Mac OS X 与 Linux 下： source = ['/Users/swa/notes']\n",
    "\n",
    "source = [\"D:\\\\github\\\\python\\\\Deep-Learning\\\\python\\\\source\"]\n",
    "\n",
    "# 在这里要注意到我们必须在字符串中使用双引号\n",
    "# 用以括起其中包含空格的名称。\n",
    "\n",
    "#2. 备份文件必须存储在一个\n",
    "#主备份目录中\n",
    "#例如在 Windows 下：\n",
    "# target_dir = 'E:\\\\Backup'\n",
    "# 又例如在 Mac OS X 和 Linux 下：target_dir = '/Users/swa/backup'\n",
    "target_dir = 'E:\\\\qqfile\\\\backup'\n",
    "\n",
    "# 要记得将这里的目录地址修改至你将使用的路径\n",
    "\n",
    "if not os.path.exists(target_dir):\n",
    "    os.mkdir(target_dir) # 创建目录\n",
    "\n",
    "# 3. 备份文件将打包压缩成 zip 文件。\n",
    "# 4. 将当前日期作为主备份目录下的子目录名称\n",
    "today = target_dir + os.sep + time.strftime('%Y%m%d')\n",
    "# 将当前时间作为 zip 文件的文件名\n",
    "now = time.strftime('%H%M%S')\n",
    "# 如果目标目录还不存在，则进行创建\n",
    "\n",
    "# 添加一条来自用户的注释以创建\n",
    "# zip 文件的文件名\n",
    "comment = input('Enter a comment -->')\n",
    "# 检查是否有评论键入\n",
    "\n",
    "if len(comment) == 0:\n",
    "    target = today + os.sep + now + '_' + comment.replace(' ','_') + '.zip'\n",
    "else:\n",
    "    target = today + os.sep + now + '_' + \n",
    "    comment.replace(' ','_') + '.zip'\n",
    "\n",
    "\n",
    "if not os.path.exists(today):\n",
    "    os.mkdir(today) # 创建目录\n",
    "    print('Successfully created directory', today)\n",
    "    \n",
    "# 5. 我们使用 zip 命令将文件打包成 zip 格式\n",
    "zip_command = 'zip -r {0} {1}'.format(target,' '.join(source))\n",
    "\n",
    "# 运行备份   \n",
    "print('Zip command is:')\n",
    "print(zip_command)\n",
    "print('Running:')\n",
    "if os.system(zip_command) == 0:\n",
    "    print('Successful backup to', target)\n",
    "else:\n",
    "    print('Backup Failed')\n",
    "\n"
   ]
  },
  {
   "cell_type": "markdown",
   "metadata": {},
   "source": [
    "它是如何（不）工作的\n",
    "\n",
    "这个程序它跑不起来！Python 会说程序之中存在着语法错误，这意味着脚本并未拥有 Python期望看见的结构。当我们观察 Python 给出的错误时，会看见它同时也告诉我们它检测到错误的地方。所以我们开始从那个地方开始对我们的程序进行 Debug 工作。仔细观察，我们会发现有一独立的逻辑行被分成了两行物理行，但我们并未指定这两行物理行应该是一起的。基本上，Python 已经发现了该逻辑行中的加法运算符（ + ）没有任何操作数，因此它不知道接下来应当如何继续。因此，我们在程序中作出修正。当我们发现程序中的错误并对其进行修正时，我们称为“错误修复（Bug Fixing）”。\n"
   ]
  },
  {
   "cell_type": "code",
   "execution_count": 4,
   "metadata": {},
   "outputs": [
    {
     "name": "stdout",
     "output_type": "stream",
     "text": [
      "Enter a comment -->test\n",
      "Zip command is:\n",
      "zip -r -v E:\\qqfile\\backup\\20180314\\102221_test.zip D:\\github\\python\\Deep-Learning\\python\\source\n",
      "Running:\n",
      "Successful backup to E:\\qqfile\\backup\\20180314\\102221_test.zip\n"
     ]
    }
   ],
   "source": [
    "'''\n",
    "第 4 版\n",
    "\n",
    "'''\n",
    "\n",
    "import os\n",
    "import time\n",
    "\n",
    "# 1. 需要备份的文件与目录将被\n",
    "# 指定在一个列表中。\n",
    "# 例如在 Windows 下：\n",
    "# source = ['\"C:\\\\My Documents\"', 'C:\\\\Code']\n",
    "# 又例如在 Mac OS X 与 Linux 下： source = ['/Users/swa/notes']\n",
    "\n",
    "source = [\"D:\\\\github\\\\python\\\\Deep-Learning\\\\python\\\\source\"]\n",
    "\n",
    "# 在这里要注意到我们必须在字符串中使用双引号\n",
    "# 用以括起其中包含空格的名称。\n",
    "\n",
    "#2. 备份文件必须存储在一个\n",
    "#主备份目录中\n",
    "#例如在 Windows 下：\n",
    "# target_dir = 'E:\\\\Backup'\n",
    "# 又例如在 Mac OS X 和 Linux 下：target_dir = '/Users/swa/backup'\n",
    "target_dir = 'E:\\\\qqfile\\\\backup'\n",
    "\n",
    "# 要记得将这里的目录地址修改至你将使用的路径\n",
    "\n",
    "if not os.path.exists(target_dir):\n",
    "    os.mkdir(target_dir) # 创建目录\n",
    "\n",
    "# 3. 备份文件将打包压缩成 zip 文件。\n",
    "# 4. 将当前日期作为主备份目录下的子目录名称\n",
    "today = target_dir + os.sep + time.strftime('%Y%m%d')\n",
    "# 将当前时间作为 zip 文件的文件名\n",
    "now = time.strftime('%H%M%S')\n",
    "# 如果目标目录还不存在，则进行创建\n",
    "\n",
    "# 添加一条来自用户的注释以创建\n",
    "# zip 文件的文件名\n",
    "comment = input('Enter a comment -->')\n",
    "# 检查是否有评论键入\n",
    "\n",
    "if len(comment) == 0:\n",
    "    target = today + os.sep + now + '_' + comment.replace(' ','_') + '.zip'\n",
    "else:\n",
    "    target = today + os.sep + now + '_' +\\\n",
    "    comment.replace(' ','_') + '.zip'\n",
    "\n",
    "\n",
    "if not os.path.exists(today):\n",
    "    os.mkdir(today) # 创建目录\n",
    "    print('Successfully created directory', today)\n",
    "    \n",
    "# 5. 我们使用 zip 命令将文件打包成 zip 格式\n",
    "zip_command = 'zip -r -v {0} {1}'.format(target,' '.join(source))\n",
    "\n",
    "# 运行备份   \n",
    "print('Zip command is:')\n",
    "print(zip_command)\n",
    "print('Running:')\n",
    "if os.system(zip_command) == 0:\n",
    "    print('Successful backup to', target)\n",
    "else:\n",
    "    print('Backup Failed')\n",
    "\n",
    "# 这里没有错误的，原书中给出的是 带有错误的示例 for bug fixing"
   ]
  },
  {
   "cell_type": "code",
   "execution_count": null,
   "metadata": {},
   "outputs": [],
   "source": [
    "'''\n",
    "第 5 版\n",
    "\n",
    "使用 zipfile \n",
    "'''"
   ]
  },
  {
   "cell_type": "markdown",
   "metadata": {},
   "source": [
    "### 软件开发流程\n",
    "\n",
    "1. What/做什么（分析）\n",
    "2. How/怎么做（设计）\n",
    "3. Do It/开始做（执行）\n",
    "4. Test/测试（测试与修复错误）\n",
    "5. Use/使用（操作或开发）\n",
    "6. Maintain/维护（改进）\n",
    "\n",
    "\n",
    "### 面向对象编程\n",
    "\n",
    "#### self\n",
    "\n",
    "你一定会在想 Python 是如何给 self 赋值的，以及为什么你不必给它一个值。一个例子或许会让这些疑问得到解答。假设你有一个 MyClass 的类，这个类下有一个实例 myobject 。当你调用一个这个对象的方法，如myobject.method(arg1, arg2) 时，Python 将会自动将其转换成 MyClass.method(myobject, arg1, arg2) ——这就是 self 的全部特殊之处所在。这同时意味着，如果你有一个没有参数的方法，你依旧必须拥有一个参数—— self \n",
    "\n"
   ]
  },
  {
   "cell_type": "code",
   "execution_count": 6,
   "metadata": {},
   "outputs": [
    {
     "name": "stdout",
     "output_type": "stream",
     "text": [
      "<__main__.Person object at 0x000001C5D62DEE10>\n"
     ]
    }
   ],
   "source": [
    "class Person:\n",
    "    pass\n",
    "\n",
    "p = Person()\n",
    "print(p)"
   ]
  },
  {
   "cell_type": "code",
   "execution_count": 11,
   "metadata": {},
   "outputs": [
    {
     "name": "stdout",
     "output_type": "stream",
     "text": [
      "Hello,how are you?\n"
     ]
    }
   ],
   "source": [
    "class Person:\n",
    "    def say_hi(self): # 这个参数 self 是必须有的\n",
    "        print('Hello,how are you?')\n",
    "    \n",
    "p = Person()\n",
    "p.say_hi()"
   ]
  },
  {
   "cell_type": "markdown",
   "metadata": {},
   "source": [
    "### _init__ 方法\n",
    "\n",
    "`__init__ `方法会在类的对象被实例化（Instantiated）时立即运行。这一方法可以对任何你想进行操作的目标对象进行初始化（Initialization）操作。这里你要注意在 init 前后加上的双下划线。\n"
   ]
  },
  {
   "cell_type": "code",
   "execution_count": 13,
   "metadata": {},
   "outputs": [
    {
     "name": "stdout",
     "output_type": "stream",
     "text": [
      "Hello, my name is Hinton\n",
      "Hello, my name is Jack\n"
     ]
    }
   ],
   "source": [
    "class Person:\n",
    "    def __init__(self, name):\n",
    "        self.name = name\n",
    "        \n",
    "    def say_hi(self):\n",
    "        print('Hello, my name is', self.name)\n",
    "        \n",
    "p = Person('Hinton')        \n",
    "p.say_hi()\n",
    "\n",
    "Person('Jack').say_hi()"
   ]
  },
  {
   "cell_type": "markdown",
   "metadata": {},
   "source": [
    "### 类变量与对象变量\n",
    "\n",
    "我们已经讨论过了类与对象的功能部分（即方法），现在让我们来学习它们的数据部分。数据部分——也就是字段——只不过是绑定（Bound）到类与对象的命名空间（Namespace）的普通变量。这就代表着这些名称仅在这些类与对象所存在的上下文中有效。这就是它们被称作“命名空间”的原因。\n",
    "\n",
    "字段（Field）有两种类型——类变量与对象变量，它们根据究竟是类还是对象拥有这些变量来进行分类。\n",
    "类变量（Class Variable）是共享的（Shared）——它们可以被属于该类的所有实例访问。\n",
    "\n",
    "该类变量只拥有一个副本，当任何一个对象对类变量作出改变时，发生的变动将在其它所有实例中都会得到体现。\n",
    "\n",
    "对象变量（Object variable）由类的每一个独立的对象或实例所拥有。在这种情况下，每个对象都拥有属于它自己的字段的副本，也就是说，它们不会被共享，也不会以任何方式与其它不同实例中的相同名称的字段产生关联。"
   ]
  },
  {
   "cell_type": "code",
   "execution_count": 16,
   "metadata": {},
   "outputs": [
    {
     "name": "stdout",
     "output_type": "stream",
     "text": [
      "(Initializing R2-D2)\n",
      "Greetings, my masters call me R2-D2\n",
      "we have 1 robots.\n",
      "(Initializing C-3PO)\n",
      "Greetings, my masters call me C-3PO\n",
      "we have 2 robots.\n",
      "\n",
      "Robots can do some work here.\n",
      "\n",
      "Robots have finished their work. So let's destroy them.\n",
      "R2-D2 is being destroyed!\n",
      "There are still 1 robots working.\n",
      "C-3PO is being destroyed!\n",
      "C-3PO was the last one.\n",
      "we have 0 robots.\n"
     ]
    }
   ],
   "source": [
    "# coding=UTF-8\n",
    "\n",
    "class Robot:\n",
    "    \"\"\"表示有一个带有名字的机器人。\"\"\"\n",
    "    \n",
    "    # 一个类变量，用来计数机器人的数量\n",
    "    population = 0\n",
    "    \n",
    "    def __init__(self, name):\n",
    "        \"\"\"初始化数据\"\"\"\n",
    "        # 对象变量          \n",
    "        self.name = name\n",
    "        print('(Initializing {})'.format(self.name))\n",
    "        \n",
    "        # 当有人被创建时，机器人\n",
    "        # 将会增加人口数量\n",
    "        Robot.population +=1\n",
    "        \n",
    "    def die(self):\n",
    "        \"\"\"我挂了。\"\"\"\n",
    "        print('{} is being destroyed!'.format(self.name))\n",
    "        \n",
    "        Robot.population -= 1\n",
    "        \n",
    "        if Robot.population == 0:\n",
    "            print('{} was the last one.'.format(self.name))\n",
    "        else:\n",
    "            print(\"There are still {:d} robots working.\".format(Robot.population))\n",
    "            \n",
    "                \n",
    "    def say_hi(self):\n",
    "        \"\"\"来自机器人的诚挚问候\n",
    "\n",
    "        没问题，你做得到。\"\"\"\n",
    "        print(\"Greetings, my masters call me {}\".format(self.name))\n",
    "        \n",
    "        \n",
    "    @classmethod\n",
    "    def how_many(cls):\n",
    "        \"\"\"打印出当前的人口数量\"\"\"\n",
    "        print(\"we have {:d} robots.\".format(cls.population))\n",
    "\n",
    "        \n",
    "droid1 = Robot(\"R2-D2\")        \n",
    "droid1.say_hi()\n",
    "Robot.how_many()\n",
    "\n",
    "droid2 = Robot('C-3PO')\n",
    "droid2.say_hi()\n",
    "Robot.how_many()\n",
    "\n",
    "\n",
    "print(\"\\nRobots can do some work here.\\n\")\n",
    "\n",
    "print(\"Robots have finished their work. So let's destroy them.\")\n",
    "\n",
    "droid1.die()\n",
    "droid2.die()\n",
    "\n",
    "Robot.how_many()"
   ]
  },
  {
   "cell_type": "code",
   "execution_count": 20,
   "metadata": {},
   "outputs": [
    {
     "name": "stdout",
     "output_type": "stream",
     "text": [
      "表示有一个带有名字的机器人。\n"
     ]
    },
    {
     "data": {
      "text/plain": [
       "'来自机器人的诚挚问候\\n\\n        没问题，你做得到。'"
      ]
     },
     "execution_count": 20,
     "metadata": {},
     "output_type": "execute_result"
    }
   ],
   "source": [
    "print(Robot.__doc__)\n",
    "Robot.say_hi.__doc__"
   ]
  },
  {
   "cell_type": "markdown",
   "metadata": {},
   "source": [
    "### 继承\n",
    "\n",
    "面向对象编程的一大优点是对代码的重用（Reuse），重用的一种实现方法就是通过继承（Inheritance）机制。继承最好是想象成在类之间实现类型与子类型（Type and Subtype）关系的工具。\n",
    "\n",
    "SchoolMember 类会被称作基类（Base Class） 或是超类（Superclass）。 Teacher 和 Student 类会被称作派生类（Derived Classes） 或是子类（Subclass）。\n"
   ]
  },
  {
   "cell_type": "code",
   "execution_count": 24,
   "metadata": {},
   "outputs": [
    {
     "name": "stdout",
     "output_type": "stream",
     "text": [
      "(Initialized SchoolMember: Mrs. Shrividya)\n",
      "(Initialized Teacher: Mrs. Shrividya)\n",
      "(Initialized SchoolMember: Swaroop)\n",
      "(Initialized Student: Swaroop)\n",
      "\n",
      "Name:\"Mrs. Shrividya\" Age:\"40\" Salary: \"30000\"\n",
      "Name:\"Swaroop\" Age:\"25\" Marks: \"75\"\n"
     ]
    }
   ],
   "source": [
    "# coding=UTF-8\n",
    "\n",
    "class SchoolMember:\n",
    "    '''代表任何学校里的成员。'''\n",
    "    def __init__(self, name, age):\n",
    "        self.name = name\n",
    "        self.age = age\n",
    "        print('(Initialized SchoolMember: %s)'%self.name)\n",
    "        \n",
    "    def tell(self):\n",
    "        '''告诉我有关我的细节。'''\n",
    "        print('Name:\"{}\" Age:\"{}\"'.format(self.name, self.age),end=\" \")\n",
    "        \n",
    "class Teacher(SchoolMember):\n",
    "    '''代表一位老师。'''\n",
    "    def __init__(self, name, age, salary):\n",
    "        SchoolMember.__init__(self, name, age)\n",
    "        self.salary = salary\n",
    "        print('(Initialized Teacher: {})'.format(self.name))\n",
    "        \n",
    "    def tell(self):\n",
    "        SchoolMember.tell(self)\n",
    "        print('Salary: \"{:d}\"'.format(self.salary))\n",
    "        \n",
    "\n",
    "class Student(SchoolMember):\n",
    "    '''代表一位学生。'''\n",
    "    def __init__(self, name, age, marks):\n",
    "        SchoolMember.__init__(self, name, age)\n",
    "        self.marks = marks\n",
    "        print('(Initialized Student: {})'.format(self.name))\n",
    "        \n",
    "    def tell(self):\n",
    "        SchoolMember.tell(self)\n",
    "        print('Marks: \"{:d}\"'.format(self.marks))\n",
    "        \n",
    "\n",
    "t = Teacher('Mrs. Shrividya', 40, 30000)\n",
    "s = Student('Swaroop', 25, 75)\n",
    "\n",
    "\n",
    "print()\n",
    "\n",
    "members = [t, s]\n",
    "\n",
    "for member in members:\n",
    "    member.tell()\n",
    "     \n",
    "        \n",
    "    \n",
    "        \n",
    "    "
   ]
  },
  {
   "cell_type": "code",
   "execution_count": null,
   "metadata": {},
   "outputs": [],
   "source": []
  }
 ],
 "metadata": {
  "kernelspec": {
   "display_name": "Python 3",
   "language": "python",
   "name": "python3"
  },
  "language_info": {
   "codemirror_mode": {
    "name": "ipython",
    "version": 3
   },
   "file_extension": ".py",
   "mimetype": "text/x-python",
   "name": "python",
   "nbconvert_exporter": "python",
   "pygments_lexer": "ipython3",
   "version": "3.6.2"
  }
 },
 "nbformat": 4,
 "nbformat_minor": 2
}
