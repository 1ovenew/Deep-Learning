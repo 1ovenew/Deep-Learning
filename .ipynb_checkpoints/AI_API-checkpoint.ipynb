{
 "cells": [
  {
   "cell_type": "markdown",
   "metadata": {},
   "source": [
    "### 百度 AI 开放平台\n",
    "\n",
    "1.百度语音\n",
    "\n",
    "- 语音识别 （demo_1）\n",
    "- 语音合成 （demo_2）\n",
    "- 语音唤醒\n",
    "\n",
    "2.视觉技术\n",
    "\n",
    "- 文字识别 （demo_3）\n",
    "- 人脸识别 （demo_4）\n",
    "- 图像审核\n",
    "- 图像识别 （demo_5）\n",
    "- 图像搜索 （demo_6）\n",
    "\n",
    "3.自然语言\n",
    "\n",
    "- 语言处理基础技术 （demo_7）\n",
    "- 理解与交互UNIT\n",
    "- 文本审核\n",
    "\n",
    "\n",
    "\n"
   ]
  },
  {
   "cell_type": "code",
   "execution_count": 1,
   "metadata": {},
   "outputs": [],
   "source": [
    "'''\n",
    "\n",
    "语音识别 （demo_1）\n",
    "\n",
    "'''\n",
    "\n",
    "from aip import AipSpeech\n",
    "\n",
    "\"\"\" 你的 APPID AK SK \"\"\"\n",
    "APP_ID = '10913130'\n",
    "API_KEY = '7zKKynArAjNn1a2klRrRzoVP'\n",
    "SECRET_KEY = 'X4f3W3rRsb2CvgEOVqrqGVCZFGL1gNiX'\n",
    "\n",
    "client = AipSpeech(APP_ID, API_KEY, SECRET_KEY)"
   ]
  },
  {
   "cell_type": "code",
   "execution_count": null,
   "metadata": {},
   "outputs": [],
   "source": []
  }
 ],
 "metadata": {
  "kernelspec": {
   "display_name": "Python 3",
   "language": "python",
   "name": "python3"
  },
  "language_info": {
   "codemirror_mode": {
    "name": "ipython",
    "version": 3
   },
   "file_extension": ".py",
   "mimetype": "text/x-python",
   "name": "python",
   "nbconvert_exporter": "python",
   "pygments_lexer": "ipython3",
   "version": "3.6.2"
  }
 },
 "nbformat": 4,
 "nbformat_minor": 2
}
